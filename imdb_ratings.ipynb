{
  "cells": [
    {
      "cell_type": "code",
      "execution_count": null,
      "metadata": {
        "id": "Mv2D6Qcv21sr",
        "colab": {
          "base_uri": "https://localhost:8080/"
        },
        "outputId": "91e99447-9803-44fd-8d6d-c5d60560d520"
      },
      "outputs": [
        {
          "output_type": "stream",
          "name": "stdout",
          "text": [
            "\u001b[?25l\r\u001b[K     |████▊                           | 10 kB 18.7 MB/s eta 0:00:01\r\u001b[K     |█████████▌                      | 20 kB 14.0 MB/s eta 0:00:01\r\u001b[K     |██████████████▎                 | 30 kB 10.1 MB/s eta 0:00:01\r\u001b[K     |███████████████████             | 40 kB 8.9 MB/s eta 0:00:01\r\u001b[K     |███████████████████████▉        | 51 kB 4.4 MB/s eta 0:00:01\r\u001b[K     |████████████████████████████▋   | 61 kB 5.1 MB/s eta 0:00:01\r\u001b[K     |████████████████████████████████| 68 kB 3.2 MB/s \n",
            "\u001b[?25h  Building wheel for uuid (setup.py) ... \u001b[?25l\u001b[?25hdone\n"
          ]
        }
      ],
      "source": [
        "# Jovian Commit Essentials\n",
        "# Please retain and execute this cell without modifying the contents for `jovian.commit` to work\n",
        "!pip install jovian --upgrade -q\n",
        "import jovian\n",
        "jovian.set_project('imdb-ratings')\n",
        "jovian.set_colab_id('1cQhck-jHMmif3XbwU5GwQJ0bp1ftx5nS')"
      ]
    },
    {
      "cell_type": "markdown",
      "metadata": {
        "id": "zNCRhrfbYQJF"
      },
      "source": [
        "# imdb-ratings\n",
        "\n",
        "Use the \"Run\" button to execute the code."
      ]
    },
    {
      "cell_type": "code",
      "execution_count": null,
      "metadata": {
        "id": "vur1IL_NYQJH"
      },
      "outputs": [],
      "source": [
        "!pip install jovian --upgrade --quiet"
      ]
    },
    {
      "cell_type": "code",
      "execution_count": null,
      "metadata": {
        "id": "rh2Y-j90YQJI"
      },
      "outputs": [],
      "source": [
        "import jovian"
      ]
    },
    {
      "cell_type": "code",
      "execution_count": null,
      "metadata": {
        "colab": {
          "base_uri": "https://localhost:8080/",
          "height": 122
        },
        "id": "znoiFo0yYQJK",
        "outputId": "97dfb960-aa65-4928-af54-41e10acab614"
      },
      "outputs": [
        {
          "output_type": "stream",
          "name": "stdout",
          "text": [
            "[jovian] Detected Colab notebook...\u001b[0m\n",
            "[jovian] Please enter your API key ( from https://jovian.ai/ ):\u001b[0m\n",
            "API KEY: ··········\n",
            "[jovian] Uploading colab notebook to Jovian...\u001b[0m\n",
            "Committed successfully! https://jovian.ai/singhkavita52971/imdb-ratings\n"
          ]
        },
        {
          "output_type": "execute_result",
          "data": {
            "text/plain": [
              "'https://jovian.ai/singhkavita52971/imdb-ratings'"
            ],
            "application/vnd.google.colaboratory.intrinsic+json": {
              "type": "string"
            }
          },
          "metadata": {},
          "execution_count": 4
        }
      ],
      "source": [
        "# Execute this to save new versions of the notebook\n",
        "jovian.commit(project=\"imdb-ratings\")"
      ]
    },
    {
      "cell_type": "markdown",
      "metadata": {
        "id": "APkPAjgAYwE_"
      },
      "source": [
        "## Introduction\n",
        "\n",
        "The data set used here is of Movie dataset\n",
        "\n",
        "This is the dataset of the popular movies rating website IMDb, this dataset includes movies name and their rating, tv rating, genre, year , languages etc.\n"
      ]
    },
    {
      "cell_type": "markdown",
      "metadata": {
        "id": "v__xO9idZB5s"
      },
      "source": [
        "Q. What is the average popularity by different budgets?\n",
        "\n",
        "Q. Which genres are most popular in different years?\n",
        "\n",
        "Q. Higher popularity means higher profits ?"
      ]
    },
    {
      "cell_type": "code",
      "execution_count": null,
      "metadata": {
        "id": "fk_FlOXiZNJK"
      },
      "outputs": [],
      "source": [
        "# Import all libraries (for the use in sheet)\n",
        "import pandas as pd\n",
        "import matplotlib.pyplot as plt\n",
        "import seaborn as sns       \n",
        "import numpy as np\n",
        "%matplotlib inline"
      ]
    },
    {
      "cell_type": "markdown",
      "metadata": {
        "id": "VBd80Gy_ZWrS"
      },
      "source": [
        "Downloading data from kaggle.com"
      ]
    },
    {
      "cell_type": "code",
      "execution_count": null,
      "metadata": {
        "colab": {
          "base_uri": "https://localhost:8080/"
        },
        "id": "9_bChHUIZYGA",
        "outputId": "434f5f7f-356a-48b7-c428-8e4b92667e0c"
      },
      "outputs": [
        {
          "output_type": "stream",
          "name": "stdout",
          "text": [
            "Looking in indexes: https://pypi.org/simple, https://us-python.pkg.dev/colab-wheels/public/simple/\n",
            "Collecting opendatasets\n",
            "  Downloading opendatasets-0.1.22-py3-none-any.whl (15 kB)\n",
            "Requirement already satisfied: kaggle in /usr/local/lib/python3.7/dist-packages (from opendatasets) (1.5.12)\n",
            "Requirement already satisfied: click in /usr/local/lib/python3.7/dist-packages (from opendatasets) (7.1.2)\n",
            "Requirement already satisfied: tqdm in /usr/local/lib/python3.7/dist-packages (from opendatasets) (4.64.0)\n",
            "Requirement already satisfied: python-slugify in /usr/local/lib/python3.7/dist-packages (from kaggle->opendatasets) (6.1.2)\n",
            "Requirement already satisfied: urllib3 in /usr/local/lib/python3.7/dist-packages (from kaggle->opendatasets) (1.24.3)\n",
            "Requirement already satisfied: requests in /usr/local/lib/python3.7/dist-packages (from kaggle->opendatasets) (2.23.0)\n",
            "Requirement already satisfied: six>=1.10 in /usr/local/lib/python3.7/dist-packages (from kaggle->opendatasets) (1.15.0)\n",
            "Requirement already satisfied: certifi in /usr/local/lib/python3.7/dist-packages (from kaggle->opendatasets) (2022.6.15)\n",
            "Requirement already satisfied: python-dateutil in /usr/local/lib/python3.7/dist-packages (from kaggle->opendatasets) (2.8.2)\n",
            "Requirement already satisfied: text-unidecode>=1.3 in /usr/local/lib/python3.7/dist-packages (from python-slugify->kaggle->opendatasets) (1.3)\n",
            "Requirement already satisfied: idna<3,>=2.5 in /usr/local/lib/python3.7/dist-packages (from requests->kaggle->opendatasets) (2.10)\n",
            "Requirement already satisfied: chardet<4,>=3.0.2 in /usr/local/lib/python3.7/dist-packages (from requests->kaggle->opendatasets) (3.0.4)\n",
            "Installing collected packages: opendatasets\n",
            "Successfully installed opendatasets-0.1.22\n"
          ]
        }
      ],
      "source": [
        "pip install opendatasets --upgrade"
      ]
    },
    {
      "cell_type": "code",
      "execution_count": null,
      "metadata": {
        "colab": {
          "base_uri": "https://localhost:8080/"
        },
        "id": "0elK9o84ZfXp",
        "outputId": "de7177ac-2f70-4ee3-fa07-60d064e52a6a"
      },
      "outputs": [
        {
          "output_type": "stream",
          "name": "stdout",
          "text": [
            "Please provide your Kaggle credentials to download this dataset. Learn more: http://bit.ly/kaggle-creds\n",
            "Your Kaggle username: kavitasinghtomar\n",
            "Your Kaggle Key: ··········\n",
            "Downloading movie-subtitle-dataset.zip to ./movie-subtitle-dataset\n"
          ]
        },
        {
          "output_type": "stream",
          "name": "stderr",
          "text": [
            "100%|██████████| 243M/243M [00:02<00:00, 126MB/s]\n"
          ]
        },
        {
          "output_type": "stream",
          "name": "stdout",
          "text": [
            "\n"
          ]
        }
      ],
      "source": [
        "import opendatasets as od\n",
        "dataset_url = 'https://www.kaggle.com/datasets/adiamaan/movie-subtitle-dataset'\n",
        "od.download('https://www.kaggle.com/datasets/adiamaan/movie-subtitle-dataset')"
      ]
    },
    {
      "cell_type": "code",
      "execution_count": null,
      "metadata": {
        "id": "hg5iAcR8aBI4"
      },
      "outputs": [],
      "source": [
        "data_filename = './movie-subtitle-dataset/movies_meta.csv'"
      ]
    },
    {
      "cell_type": "code",
      "execution_count": null,
      "metadata": {
        "id": "k4DJ0fDKaG-e"
      },
      "outputs": [],
      "source": [
        "df = pd.read_csv(data_filename)"
      ]
    },
    {
      "cell_type": "markdown",
      "source": [
        "Printng dataset\n"
      ],
      "metadata": {
        "id": "WGrO1c2bavJv"
      }
    },
    {
      "cell_type": "code",
      "execution_count": null,
      "metadata": {
        "colab": {
          "base_uri": "https://localhost:8080/",
          "height": 1000
        },
        "id": "cohxA-XLaL2w",
        "outputId": "c74a38ef-4929-4944-b3c6-ea66069e2434"
      },
      "outputs": [
        {
          "output_type": "execute_result",
          "data": {
            "text/plain": [
              "      adult                              belongs_to_collection    budget  \\\n",
              "0     False  {'id': 10194, 'name': 'Toy Story Collection', ...  30000000   \n",
              "1     False                                                NaN  65000000   \n",
              "2     False  {'id': 645, 'name': 'James Bond Collection', '...  58000000   \n",
              "3     False                                                NaN   3600000   \n",
              "4     False                                                NaN  29500000   \n",
              "...     ...                                                ...       ...   \n",
              "4685  False                                                NaN         0   \n",
              "4686  False                                                NaN         0   \n",
              "4687  False                                                NaN  30000000   \n",
              "4688  False                                                NaN         0   \n",
              "4689  False                                                NaN         0   \n",
              "\n",
              "                                                 genres  \\\n",
              "0     [{'id': 16, 'name': 'Animation'}, {'id': 35, '...   \n",
              "1     [{'id': 12, 'name': 'Adventure'}, {'id': 14, '...   \n",
              "2     [{'id': 12, 'name': 'Adventure'}, {'id': 28, '...   \n",
              "3     [{'id': 18, 'name': 'Drama'}, {'id': 10749, 'n...   \n",
              "4     [{'id': 878, 'name': 'Science Fiction'}, {'id'...   \n",
              "...                                                 ...   \n",
              "4685  [{'id': 878, 'name': 'Science Fiction'}, {'id'...   \n",
              "4686  [{'id': 18, 'name': 'Drama'}, {'id': 10749, 'n...   \n",
              "4687  [{'id': 28, 'name': 'Action'}, {'id': 53, 'nam...   \n",
              "4688  [{'id': 53, 'name': 'Thriller'}, {'id': 18, 'n...   \n",
              "4689                                                 []   \n",
              "\n",
              "                                               homepage      id    imdb_id  \\\n",
              "0                  http://toystory.disney.com/toy-story     862  tt0114709   \n",
              "1                                                   NaN    8844  tt0113497   \n",
              "2          http://www.mgm.com/view/movie/757/Goldeneye/     710  tt0113189   \n",
              "3     http://www.mgm.com/title_title.do?title_star=L...     451  tt0113627   \n",
              "4                                                   NaN      63  tt0114746   \n",
              "...                                                 ...     ...        ...   \n",
              "4685                                                NaN  406990  tt1536537   \n",
              "4686            https://facebook.com/TestrolEsLelekrol/  436343  tt5607714   \n",
              "4687                       http://www.atomicblonde.com/  341013  tt2406566   \n",
              "4688                                                NaN  105980  tt0129023   \n",
              "4689                                                NaN  439314        NaN   \n",
              "\n",
              "     original_language                  original_title  \\\n",
              "0                   en                       Toy Story   \n",
              "1                   en                         Jumanji   \n",
              "2                   en                       GoldenEye   \n",
              "3                   en               Leaving Las Vegas   \n",
              "4                   en                  Twelve Monkeys   \n",
              "...                ...                             ...   \n",
              "4685                en         What Happened to Monday   \n",
              "4686                hu             Testről és lélekről   \n",
              "4687                en                   Atomic Blonde   \n",
              "4688                en                     Dark Harbor   \n",
              "4689                en  The Garden of Afflictions 2017   \n",
              "\n",
              "                                               overview  ...  release_date  \\\n",
              "0     Led by Woody, Andy's toys live happily in his ...  ...    1995-10-30   \n",
              "1     When siblings Judy and Peter discover an encha...  ...    1995-12-15   \n",
              "2     James Bond must unmask the mysterious head of ...  ...    1995-11-16   \n",
              "3     Ben Sanderson, an alcoholic Hollywood screenwr...  ...    1995-10-27   \n",
              "4     In the year 2035, convict James Cole reluctant...  ...    1995-12-29   \n",
              "...                                                 ...  ...           ...   \n",
              "4685  In a world where families are limited to one c...  ...    2017-08-18   \n",
              "4686  Two introverted people find out by pure chance...  ...    2017-03-02   \n",
              "4687  An undercover MI6 agent is sent to Berlin duri...  ...    2017-07-26   \n",
              "4688  A bickering couple drive fast through a downpo...  ...    1999-12-31   \n",
              "4689  Brazilian philosopher Olavo de Carvalho's thin...  ...           NaN   \n",
              "\n",
              "          revenue runtime                                   spoken_languages  \\\n",
              "0     373554033.0    81.0           [{'iso_639_1': 'en', 'name': 'English'}]   \n",
              "1     262797249.0   104.0  [{'iso_639_1': 'en', 'name': 'English'}, {'iso...   \n",
              "2     352194034.0   130.0  [{'iso_639_1': 'en', 'name': 'English'}, {'iso...   \n",
              "3      49800000.0   112.0           [{'iso_639_1': 'en', 'name': 'English'}]   \n",
              "4     168840000.0   129.0  [{'iso_639_1': 'en', 'name': 'English'}, {'iso...   \n",
              "...           ...     ...                                                ...   \n",
              "4685          0.0   123.0           [{'iso_639_1': 'en', 'name': 'English'}]   \n",
              "4686          0.0   116.0            [{'iso_639_1': 'hu', 'name': 'Magyar'}]   \n",
              "4687   90007945.0   115.0  [{'iso_639_1': 'sv', 'name': 'svenska'}, {'iso...   \n",
              "4688          0.0    84.0           [{'iso_639_1': 'en', 'name': 'English'}]   \n",
              "4689          0.0     0.0                                                 []   \n",
              "\n",
              "        status                                    tagline  \\\n",
              "0     Released                                        NaN   \n",
              "1     Released  Roll the dice and unleash the excitement!   \n",
              "2     Released       No limits. No fears. No substitutes.   \n",
              "3     Released             I Love You... The Way You Are.   \n",
              "4     Released                     The future is history.   \n",
              "...        ...                                        ...   \n",
              "4685  Released               Seven sisters. One identity.   \n",
              "4686  Released                                        NaN   \n",
              "4687  Released                                        NaN   \n",
              "4688  Released                                        NaN   \n",
              "4689  Released                                        NaN   \n",
              "\n",
              "                               title  video vote_average vote_count  \n",
              "0                          Toy Story  False          7.7     5415.0  \n",
              "1                            Jumanji  False          6.9     2413.0  \n",
              "2                          GoldenEye  False          6.6     1194.0  \n",
              "3                  Leaving Las Vegas  False          7.1      365.0  \n",
              "4                     Twelve Monkeys  False          7.4     2470.0  \n",
              "...                              ...    ...          ...        ...  \n",
              "4685         What Happened to Monday  False          7.3      598.0  \n",
              "4686                On Body and Soul  False          7.7        6.0  \n",
              "4687                   Atomic Blonde  False          6.1      748.0  \n",
              "4688                     Dark Harbor  False          4.6        9.0  \n",
              "4689  The Garden of Afflictions 2017  False          0.0        0.0  \n",
              "\n",
              "[4690 rows x 24 columns]"
            ],
            "text/html": [
              "\n",
              "  <div id=\"df-52fbfe61-c346-4d34-b2fc-00775df7c795\">\n",
              "    <div class=\"colab-df-container\">\n",
              "      <div>\n",
              "<style scoped>\n",
              "    .dataframe tbody tr th:only-of-type {\n",
              "        vertical-align: middle;\n",
              "    }\n",
              "\n",
              "    .dataframe tbody tr th {\n",
              "        vertical-align: top;\n",
              "    }\n",
              "\n",
              "    .dataframe thead th {\n",
              "        text-align: right;\n",
              "    }\n",
              "</style>\n",
              "<table border=\"1\" class=\"dataframe\">\n",
              "  <thead>\n",
              "    <tr style=\"text-align: right;\">\n",
              "      <th></th>\n",
              "      <th>adult</th>\n",
              "      <th>belongs_to_collection</th>\n",
              "      <th>budget</th>\n",
              "      <th>genres</th>\n",
              "      <th>homepage</th>\n",
              "      <th>id</th>\n",
              "      <th>imdb_id</th>\n",
              "      <th>original_language</th>\n",
              "      <th>original_title</th>\n",
              "      <th>overview</th>\n",
              "      <th>...</th>\n",
              "      <th>release_date</th>\n",
              "      <th>revenue</th>\n",
              "      <th>runtime</th>\n",
              "      <th>spoken_languages</th>\n",
              "      <th>status</th>\n",
              "      <th>tagline</th>\n",
              "      <th>title</th>\n",
              "      <th>video</th>\n",
              "      <th>vote_average</th>\n",
              "      <th>vote_count</th>\n",
              "    </tr>\n",
              "  </thead>\n",
              "  <tbody>\n",
              "    <tr>\n",
              "      <th>0</th>\n",
              "      <td>False</td>\n",
              "      <td>{'id': 10194, 'name': 'Toy Story Collection', ...</td>\n",
              "      <td>30000000</td>\n",
              "      <td>[{'id': 16, 'name': 'Animation'}, {'id': 35, '...</td>\n",
              "      <td>http://toystory.disney.com/toy-story</td>\n",
              "      <td>862</td>\n",
              "      <td>tt0114709</td>\n",
              "      <td>en</td>\n",
              "      <td>Toy Story</td>\n",
              "      <td>Led by Woody, Andy's toys live happily in his ...</td>\n",
              "      <td>...</td>\n",
              "      <td>1995-10-30</td>\n",
              "      <td>373554033.0</td>\n",
              "      <td>81.0</td>\n",
              "      <td>[{'iso_639_1': 'en', 'name': 'English'}]</td>\n",
              "      <td>Released</td>\n",
              "      <td>NaN</td>\n",
              "      <td>Toy Story</td>\n",
              "      <td>False</td>\n",
              "      <td>7.7</td>\n",
              "      <td>5415.0</td>\n",
              "    </tr>\n",
              "    <tr>\n",
              "      <th>1</th>\n",
              "      <td>False</td>\n",
              "      <td>NaN</td>\n",
              "      <td>65000000</td>\n",
              "      <td>[{'id': 12, 'name': 'Adventure'}, {'id': 14, '...</td>\n",
              "      <td>NaN</td>\n",
              "      <td>8844</td>\n",
              "      <td>tt0113497</td>\n",
              "      <td>en</td>\n",
              "      <td>Jumanji</td>\n",
              "      <td>When siblings Judy and Peter discover an encha...</td>\n",
              "      <td>...</td>\n",
              "      <td>1995-12-15</td>\n",
              "      <td>262797249.0</td>\n",
              "      <td>104.0</td>\n",
              "      <td>[{'iso_639_1': 'en', 'name': 'English'}, {'iso...</td>\n",
              "      <td>Released</td>\n",
              "      <td>Roll the dice and unleash the excitement!</td>\n",
              "      <td>Jumanji</td>\n",
              "      <td>False</td>\n",
              "      <td>6.9</td>\n",
              "      <td>2413.0</td>\n",
              "    </tr>\n",
              "    <tr>\n",
              "      <th>2</th>\n",
              "      <td>False</td>\n",
              "      <td>{'id': 645, 'name': 'James Bond Collection', '...</td>\n",
              "      <td>58000000</td>\n",
              "      <td>[{'id': 12, 'name': 'Adventure'}, {'id': 28, '...</td>\n",
              "      <td>http://www.mgm.com/view/movie/757/Goldeneye/</td>\n",
              "      <td>710</td>\n",
              "      <td>tt0113189</td>\n",
              "      <td>en</td>\n",
              "      <td>GoldenEye</td>\n",
              "      <td>James Bond must unmask the mysterious head of ...</td>\n",
              "      <td>...</td>\n",
              "      <td>1995-11-16</td>\n",
              "      <td>352194034.0</td>\n",
              "      <td>130.0</td>\n",
              "      <td>[{'iso_639_1': 'en', 'name': 'English'}, {'iso...</td>\n",
              "      <td>Released</td>\n",
              "      <td>No limits. No fears. No substitutes.</td>\n",
              "      <td>GoldenEye</td>\n",
              "      <td>False</td>\n",
              "      <td>6.6</td>\n",
              "      <td>1194.0</td>\n",
              "    </tr>\n",
              "    <tr>\n",
              "      <th>3</th>\n",
              "      <td>False</td>\n",
              "      <td>NaN</td>\n",
              "      <td>3600000</td>\n",
              "      <td>[{'id': 18, 'name': 'Drama'}, {'id': 10749, 'n...</td>\n",
              "      <td>http://www.mgm.com/title_title.do?title_star=L...</td>\n",
              "      <td>451</td>\n",
              "      <td>tt0113627</td>\n",
              "      <td>en</td>\n",
              "      <td>Leaving Las Vegas</td>\n",
              "      <td>Ben Sanderson, an alcoholic Hollywood screenwr...</td>\n",
              "      <td>...</td>\n",
              "      <td>1995-10-27</td>\n",
              "      <td>49800000.0</td>\n",
              "      <td>112.0</td>\n",
              "      <td>[{'iso_639_1': 'en', 'name': 'English'}]</td>\n",
              "      <td>Released</td>\n",
              "      <td>I Love You... The Way You Are.</td>\n",
              "      <td>Leaving Las Vegas</td>\n",
              "      <td>False</td>\n",
              "      <td>7.1</td>\n",
              "      <td>365.0</td>\n",
              "    </tr>\n",
              "    <tr>\n",
              "      <th>4</th>\n",
              "      <td>False</td>\n",
              "      <td>NaN</td>\n",
              "      <td>29500000</td>\n",
              "      <td>[{'id': 878, 'name': 'Science Fiction'}, {'id'...</td>\n",
              "      <td>NaN</td>\n",
              "      <td>63</td>\n",
              "      <td>tt0114746</td>\n",
              "      <td>en</td>\n",
              "      <td>Twelve Monkeys</td>\n",
              "      <td>In the year 2035, convict James Cole reluctant...</td>\n",
              "      <td>...</td>\n",
              "      <td>1995-12-29</td>\n",
              "      <td>168840000.0</td>\n",
              "      <td>129.0</td>\n",
              "      <td>[{'iso_639_1': 'en', 'name': 'English'}, {'iso...</td>\n",
              "      <td>Released</td>\n",
              "      <td>The future is history.</td>\n",
              "      <td>Twelve Monkeys</td>\n",
              "      <td>False</td>\n",
              "      <td>7.4</td>\n",
              "      <td>2470.0</td>\n",
              "    </tr>\n",
              "    <tr>\n",
              "      <th>...</th>\n",
              "      <td>...</td>\n",
              "      <td>...</td>\n",
              "      <td>...</td>\n",
              "      <td>...</td>\n",
              "      <td>...</td>\n",
              "      <td>...</td>\n",
              "      <td>...</td>\n",
              "      <td>...</td>\n",
              "      <td>...</td>\n",
              "      <td>...</td>\n",
              "      <td>...</td>\n",
              "      <td>...</td>\n",
              "      <td>...</td>\n",
              "      <td>...</td>\n",
              "      <td>...</td>\n",
              "      <td>...</td>\n",
              "      <td>...</td>\n",
              "      <td>...</td>\n",
              "      <td>...</td>\n",
              "      <td>...</td>\n",
              "      <td>...</td>\n",
              "    </tr>\n",
              "    <tr>\n",
              "      <th>4685</th>\n",
              "      <td>False</td>\n",
              "      <td>NaN</td>\n",
              "      <td>0</td>\n",
              "      <td>[{'id': 878, 'name': 'Science Fiction'}, {'id'...</td>\n",
              "      <td>NaN</td>\n",
              "      <td>406990</td>\n",
              "      <td>tt1536537</td>\n",
              "      <td>en</td>\n",
              "      <td>What Happened to Monday</td>\n",
              "      <td>In a world where families are limited to one c...</td>\n",
              "      <td>...</td>\n",
              "      <td>2017-08-18</td>\n",
              "      <td>0.0</td>\n",
              "      <td>123.0</td>\n",
              "      <td>[{'iso_639_1': 'en', 'name': 'English'}]</td>\n",
              "      <td>Released</td>\n",
              "      <td>Seven sisters. One identity.</td>\n",
              "      <td>What Happened to Monday</td>\n",
              "      <td>False</td>\n",
              "      <td>7.3</td>\n",
              "      <td>598.0</td>\n",
              "    </tr>\n",
              "    <tr>\n",
              "      <th>4686</th>\n",
              "      <td>False</td>\n",
              "      <td>NaN</td>\n",
              "      <td>0</td>\n",
              "      <td>[{'id': 18, 'name': 'Drama'}, {'id': 10749, 'n...</td>\n",
              "      <td>https://facebook.com/TestrolEsLelekrol/</td>\n",
              "      <td>436343</td>\n",
              "      <td>tt5607714</td>\n",
              "      <td>hu</td>\n",
              "      <td>Testről és lélekről</td>\n",
              "      <td>Two introverted people find out by pure chance...</td>\n",
              "      <td>...</td>\n",
              "      <td>2017-03-02</td>\n",
              "      <td>0.0</td>\n",
              "      <td>116.0</td>\n",
              "      <td>[{'iso_639_1': 'hu', 'name': 'Magyar'}]</td>\n",
              "      <td>Released</td>\n",
              "      <td>NaN</td>\n",
              "      <td>On Body and Soul</td>\n",
              "      <td>False</td>\n",
              "      <td>7.7</td>\n",
              "      <td>6.0</td>\n",
              "    </tr>\n",
              "    <tr>\n",
              "      <th>4687</th>\n",
              "      <td>False</td>\n",
              "      <td>NaN</td>\n",
              "      <td>30000000</td>\n",
              "      <td>[{'id': 28, 'name': 'Action'}, {'id': 53, 'nam...</td>\n",
              "      <td>http://www.atomicblonde.com/</td>\n",
              "      <td>341013</td>\n",
              "      <td>tt2406566</td>\n",
              "      <td>en</td>\n",
              "      <td>Atomic Blonde</td>\n",
              "      <td>An undercover MI6 agent is sent to Berlin duri...</td>\n",
              "      <td>...</td>\n",
              "      <td>2017-07-26</td>\n",
              "      <td>90007945.0</td>\n",
              "      <td>115.0</td>\n",
              "      <td>[{'iso_639_1': 'sv', 'name': 'svenska'}, {'iso...</td>\n",
              "      <td>Released</td>\n",
              "      <td>NaN</td>\n",
              "      <td>Atomic Blonde</td>\n",
              "      <td>False</td>\n",
              "      <td>6.1</td>\n",
              "      <td>748.0</td>\n",
              "    </tr>\n",
              "    <tr>\n",
              "      <th>4688</th>\n",
              "      <td>False</td>\n",
              "      <td>NaN</td>\n",
              "      <td>0</td>\n",
              "      <td>[{'id': 53, 'name': 'Thriller'}, {'id': 18, 'n...</td>\n",
              "      <td>NaN</td>\n",
              "      <td>105980</td>\n",
              "      <td>tt0129023</td>\n",
              "      <td>en</td>\n",
              "      <td>Dark Harbor</td>\n",
              "      <td>A bickering couple drive fast through a downpo...</td>\n",
              "      <td>...</td>\n",
              "      <td>1999-12-31</td>\n",
              "      <td>0.0</td>\n",
              "      <td>84.0</td>\n",
              "      <td>[{'iso_639_1': 'en', 'name': 'English'}]</td>\n",
              "      <td>Released</td>\n",
              "      <td>NaN</td>\n",
              "      <td>Dark Harbor</td>\n",
              "      <td>False</td>\n",
              "      <td>4.6</td>\n",
              "      <td>9.0</td>\n",
              "    </tr>\n",
              "    <tr>\n",
              "      <th>4689</th>\n",
              "      <td>False</td>\n",
              "      <td>NaN</td>\n",
              "      <td>0</td>\n",
              "      <td>[]</td>\n",
              "      <td>NaN</td>\n",
              "      <td>439314</td>\n",
              "      <td>NaN</td>\n",
              "      <td>en</td>\n",
              "      <td>The Garden of Afflictions 2017</td>\n",
              "      <td>Brazilian philosopher Olavo de Carvalho's thin...</td>\n",
              "      <td>...</td>\n",
              "      <td>NaN</td>\n",
              "      <td>0.0</td>\n",
              "      <td>0.0</td>\n",
              "      <td>[]</td>\n",
              "      <td>Released</td>\n",
              "      <td>NaN</td>\n",
              "      <td>The Garden of Afflictions 2017</td>\n",
              "      <td>False</td>\n",
              "      <td>0.0</td>\n",
              "      <td>0.0</td>\n",
              "    </tr>\n",
              "  </tbody>\n",
              "</table>\n",
              "<p>4690 rows × 24 columns</p>\n",
              "</div>\n",
              "      <button class=\"colab-df-convert\" onclick=\"convertToInteractive('df-52fbfe61-c346-4d34-b2fc-00775df7c795')\"\n",
              "              title=\"Convert this dataframe to an interactive table.\"\n",
              "              style=\"display:none;\">\n",
              "        \n",
              "  <svg xmlns=\"http://www.w3.org/2000/svg\" height=\"24px\"viewBox=\"0 0 24 24\"\n",
              "       width=\"24px\">\n",
              "    <path d=\"M0 0h24v24H0V0z\" fill=\"none\"/>\n",
              "    <path d=\"M18.56 5.44l.94 2.06.94-2.06 2.06-.94-2.06-.94-.94-2.06-.94 2.06-2.06.94zm-11 1L8.5 8.5l.94-2.06 2.06-.94-2.06-.94L8.5 2.5l-.94 2.06-2.06.94zm10 10l.94 2.06.94-2.06 2.06-.94-2.06-.94-.94-2.06-.94 2.06-2.06.94z\"/><path d=\"M17.41 7.96l-1.37-1.37c-.4-.4-.92-.59-1.43-.59-.52 0-1.04.2-1.43.59L10.3 9.45l-7.72 7.72c-.78.78-.78 2.05 0 2.83L4 21.41c.39.39.9.59 1.41.59.51 0 1.02-.2 1.41-.59l7.78-7.78 2.81-2.81c.8-.78.8-2.07 0-2.86zM5.41 20L4 18.59l7.72-7.72 1.47 1.35L5.41 20z\"/>\n",
              "  </svg>\n",
              "      </button>\n",
              "      \n",
              "  <style>\n",
              "    .colab-df-container {\n",
              "      display:flex;\n",
              "      flex-wrap:wrap;\n",
              "      gap: 12px;\n",
              "    }\n",
              "\n",
              "    .colab-df-convert {\n",
              "      background-color: #E8F0FE;\n",
              "      border: none;\n",
              "      border-radius: 50%;\n",
              "      cursor: pointer;\n",
              "      display: none;\n",
              "      fill: #1967D2;\n",
              "      height: 32px;\n",
              "      padding: 0 0 0 0;\n",
              "      width: 32px;\n",
              "    }\n",
              "\n",
              "    .colab-df-convert:hover {\n",
              "      background-color: #E2EBFA;\n",
              "      box-shadow: 0px 1px 2px rgba(60, 64, 67, 0.3), 0px 1px 3px 1px rgba(60, 64, 67, 0.15);\n",
              "      fill: #174EA6;\n",
              "    }\n",
              "\n",
              "    [theme=dark] .colab-df-convert {\n",
              "      background-color: #3B4455;\n",
              "      fill: #D2E3FC;\n",
              "    }\n",
              "\n",
              "    [theme=dark] .colab-df-convert:hover {\n",
              "      background-color: #434B5C;\n",
              "      box-shadow: 0px 1px 3px 1px rgba(0, 0, 0, 0.15);\n",
              "      filter: drop-shadow(0px 1px 2px rgba(0, 0, 0, 0.3));\n",
              "      fill: #FFFFFF;\n",
              "    }\n",
              "  </style>\n",
              "\n",
              "      <script>\n",
              "        const buttonEl =\n",
              "          document.querySelector('#df-52fbfe61-c346-4d34-b2fc-00775df7c795 button.colab-df-convert');\n",
              "        buttonEl.style.display =\n",
              "          google.colab.kernel.accessAllowed ? 'block' : 'none';\n",
              "\n",
              "        async function convertToInteractive(key) {\n",
              "          const element = document.querySelector('#df-52fbfe61-c346-4d34-b2fc-00775df7c795');\n",
              "          const dataTable =\n",
              "            await google.colab.kernel.invokeFunction('convertToInteractive',\n",
              "                                                     [key], {});\n",
              "          if (!dataTable) return;\n",
              "\n",
              "          const docLinkHtml = 'Like what you see? Visit the ' +\n",
              "            '<a target=\"_blank\" href=https://colab.research.google.com/notebooks/data_table.ipynb>data table notebook</a>'\n",
              "            + ' to learn more about interactive tables.';\n",
              "          element.innerHTML = '';\n",
              "          dataTable['output_type'] = 'display_data';\n",
              "          await google.colab.output.renderOutput(dataTable, element);\n",
              "          const docLink = document.createElement('div');\n",
              "          docLink.innerHTML = docLinkHtml;\n",
              "          element.appendChild(docLink);\n",
              "        }\n",
              "      </script>\n",
              "    </div>\n",
              "  </div>\n",
              "  "
            ]
          },
          "metadata": {},
          "execution_count": 10
        }
      ],
      "source": [
        "df"
      ]
    },
    {
      "cell_type": "markdown",
      "source": [
        "Printing total number of entries in (rows, columns)"
      ],
      "metadata": {
        "id": "1_MGmajZa2dp"
      }
    },
    {
      "cell_type": "code",
      "execution_count": null,
      "metadata": {
        "colab": {
          "base_uri": "https://localhost:8080/"
        },
        "id": "9ysha46eaPVN",
        "outputId": "3d63f27b-c520-4d95-db5c-e21a3b722304"
      },
      "outputs": [
        {
          "output_type": "execute_result",
          "data": {
            "text/plain": [
              "(4690, 24)"
            ]
          },
          "metadata": {},
          "execution_count": 11
        }
      ],
      "source": [
        "df.shape"
      ]
    },
    {
      "cell_type": "markdown",
      "source": [
        "Printing all the datatypes present"
      ],
      "metadata": {
        "id": "jxTEpEoNa-gD"
      }
    },
    {
      "cell_type": "code",
      "execution_count": null,
      "metadata": {
        "colab": {
          "base_uri": "https://localhost:8080/"
        },
        "id": "hZaawuhNaYih",
        "outputId": "29e4b6e2-b7d2-4395-eeda-37d3a732d5f2"
      },
      "outputs": [
        {
          "output_type": "execute_result",
          "data": {
            "text/plain": [
              "adult                       bool\n",
              "belongs_to_collection     object\n",
              "budget                     int64\n",
              "genres                    object\n",
              "homepage                  object\n",
              "id                         int64\n",
              "imdb_id                   object\n",
              "original_language         object\n",
              "original_title            object\n",
              "overview                  object\n",
              "popularity               float64\n",
              "poster_path               object\n",
              "production_companies      object\n",
              "production_countries      object\n",
              "release_date              object\n",
              "revenue                  float64\n",
              "runtime                  float64\n",
              "spoken_languages          object\n",
              "status                    object\n",
              "tagline                   object\n",
              "title                     object\n",
              "video                       bool\n",
              "vote_average             float64\n",
              "vote_count               float64\n",
              "dtype: object"
            ]
          },
          "metadata": {},
          "execution_count": 12
        }
      ],
      "source": [
        "df.dtypes"
      ]
    },
    {
      "cell_type": "markdown",
      "source": [
        "Printing all the unique values"
      ],
      "metadata": {
        "id": "AvpXlJdgbEI5"
      }
    },
    {
      "cell_type": "code",
      "execution_count": null,
      "metadata": {
        "colab": {
          "base_uri": "https://localhost:8080/"
        },
        "id": "Bi4Njmb7adcl",
        "outputId": "9d4263f4-d9fd-409d-ec6e-1eeff815b152"
      },
      "outputs": [
        {
          "output_type": "execute_result",
          "data": {
            "text/plain": [
              "adult                       2\n",
              "belongs_to_collection     461\n",
              "budget                    351\n",
              "genres                   1094\n",
              "homepage                 1048\n",
              "id                       4683\n",
              "imdb_id                  4666\n",
              "original_language          50\n",
              "original_title           4565\n",
              "overview                 4647\n",
              "popularity               4670\n",
              "poster_path              4670\n",
              "production_companies     3254\n",
              "production_countries      491\n",
              "release_date             3677\n",
              "revenue                  1376\n",
              "runtime                   210\n",
              "spoken_languages          469\n",
              "status                      5\n",
              "tagline                  2762\n",
              "title                    4540\n",
              "video                       2\n",
              "vote_average               77\n",
              "vote_count                870\n",
              "dtype: int64"
            ]
          },
          "metadata": {},
          "execution_count": 13
        }
      ],
      "source": [
        "df.nunique()"
      ]
    },
    {
      "cell_type": "code",
      "execution_count": null,
      "metadata": {
        "colab": {
          "base_uri": "https://localhost:8080/",
          "height": 300
        },
        "id": "4VyQAc8bai8X",
        "outputId": "99cbd5c2-a0a3-42b0-eb97-d8f567f1fa35"
      },
      "outputs": [
        {
          "output_type": "execute_result",
          "data": {
            "text/plain": [
              "             budget             id   popularity       revenue      runtime  \\\n",
              "count  4.690000e+03    4690.000000  4690.000000  4.690000e+03  4686.000000   \n",
              "mean   9.017483e+06   85049.905544     4.981826  2.632611e+07   101.362996   \n",
              "std    2.532926e+07  104284.145058     6.980967  9.653105e+07    36.840229   \n",
              "min    0.000000e+00       2.000000     0.000000  0.000000e+00     0.000000   \n",
              "25%    0.000000e+00   14547.750000     1.046580  0.000000e+00    90.000000   \n",
              "50%    0.000000e+00   41248.500000     3.040211  0.000000e+00    99.000000   \n",
              "75%    3.500000e+06  106771.250000     7.286651  1.584002e+06   111.000000   \n",
              "max    3.000000e+08  456098.000000   213.849907  1.519558e+09   877.000000   \n",
              "\n",
              "       vote_average    vote_count  \n",
              "count   4690.000000   4690.000000  \n",
              "mean       6.042601    256.158209  \n",
              "std        1.340573    789.646995  \n",
              "min        0.000000      0.000000  \n",
              "25%        5.500000      9.000000  \n",
              "50%        6.200000     28.000000  \n",
              "75%        6.900000    119.000000  \n",
              "max       10.000000  14075.000000  "
            ],
            "text/html": [
              "\n",
              "  <div id=\"df-d28dca83-a54c-4687-ba07-d174d936bc9c\">\n",
              "    <div class=\"colab-df-container\">\n",
              "      <div>\n",
              "<style scoped>\n",
              "    .dataframe tbody tr th:only-of-type {\n",
              "        vertical-align: middle;\n",
              "    }\n",
              "\n",
              "    .dataframe tbody tr th {\n",
              "        vertical-align: top;\n",
              "    }\n",
              "\n",
              "    .dataframe thead th {\n",
              "        text-align: right;\n",
              "    }\n",
              "</style>\n",
              "<table border=\"1\" class=\"dataframe\">\n",
              "  <thead>\n",
              "    <tr style=\"text-align: right;\">\n",
              "      <th></th>\n",
              "      <th>budget</th>\n",
              "      <th>id</th>\n",
              "      <th>popularity</th>\n",
              "      <th>revenue</th>\n",
              "      <th>runtime</th>\n",
              "      <th>vote_average</th>\n",
              "      <th>vote_count</th>\n",
              "    </tr>\n",
              "  </thead>\n",
              "  <tbody>\n",
              "    <tr>\n",
              "      <th>count</th>\n",
              "      <td>4.690000e+03</td>\n",
              "      <td>4690.000000</td>\n",
              "      <td>4690.000000</td>\n",
              "      <td>4.690000e+03</td>\n",
              "      <td>4686.000000</td>\n",
              "      <td>4690.000000</td>\n",
              "      <td>4690.000000</td>\n",
              "    </tr>\n",
              "    <tr>\n",
              "      <th>mean</th>\n",
              "      <td>9.017483e+06</td>\n",
              "      <td>85049.905544</td>\n",
              "      <td>4.981826</td>\n",
              "      <td>2.632611e+07</td>\n",
              "      <td>101.362996</td>\n",
              "      <td>6.042601</td>\n",
              "      <td>256.158209</td>\n",
              "    </tr>\n",
              "    <tr>\n",
              "      <th>std</th>\n",
              "      <td>2.532926e+07</td>\n",
              "      <td>104284.145058</td>\n",
              "      <td>6.980967</td>\n",
              "      <td>9.653105e+07</td>\n",
              "      <td>36.840229</td>\n",
              "      <td>1.340573</td>\n",
              "      <td>789.646995</td>\n",
              "    </tr>\n",
              "    <tr>\n",
              "      <th>min</th>\n",
              "      <td>0.000000e+00</td>\n",
              "      <td>2.000000</td>\n",
              "      <td>0.000000</td>\n",
              "      <td>0.000000e+00</td>\n",
              "      <td>0.000000</td>\n",
              "      <td>0.000000</td>\n",
              "      <td>0.000000</td>\n",
              "    </tr>\n",
              "    <tr>\n",
              "      <th>25%</th>\n",
              "      <td>0.000000e+00</td>\n",
              "      <td>14547.750000</td>\n",
              "      <td>1.046580</td>\n",
              "      <td>0.000000e+00</td>\n",
              "      <td>90.000000</td>\n",
              "      <td>5.500000</td>\n",
              "      <td>9.000000</td>\n",
              "    </tr>\n",
              "    <tr>\n",
              "      <th>50%</th>\n",
              "      <td>0.000000e+00</td>\n",
              "      <td>41248.500000</td>\n",
              "      <td>3.040211</td>\n",
              "      <td>0.000000e+00</td>\n",
              "      <td>99.000000</td>\n",
              "      <td>6.200000</td>\n",
              "      <td>28.000000</td>\n",
              "    </tr>\n",
              "    <tr>\n",
              "      <th>75%</th>\n",
              "      <td>3.500000e+06</td>\n",
              "      <td>106771.250000</td>\n",
              "      <td>7.286651</td>\n",
              "      <td>1.584002e+06</td>\n",
              "      <td>111.000000</td>\n",
              "      <td>6.900000</td>\n",
              "      <td>119.000000</td>\n",
              "    </tr>\n",
              "    <tr>\n",
              "      <th>max</th>\n",
              "      <td>3.000000e+08</td>\n",
              "      <td>456098.000000</td>\n",
              "      <td>213.849907</td>\n",
              "      <td>1.519558e+09</td>\n",
              "      <td>877.000000</td>\n",
              "      <td>10.000000</td>\n",
              "      <td>14075.000000</td>\n",
              "    </tr>\n",
              "  </tbody>\n",
              "</table>\n",
              "</div>\n",
              "      <button class=\"colab-df-convert\" onclick=\"convertToInteractive('df-d28dca83-a54c-4687-ba07-d174d936bc9c')\"\n",
              "              title=\"Convert this dataframe to an interactive table.\"\n",
              "              style=\"display:none;\">\n",
              "        \n",
              "  <svg xmlns=\"http://www.w3.org/2000/svg\" height=\"24px\"viewBox=\"0 0 24 24\"\n",
              "       width=\"24px\">\n",
              "    <path d=\"M0 0h24v24H0V0z\" fill=\"none\"/>\n",
              "    <path d=\"M18.56 5.44l.94 2.06.94-2.06 2.06-.94-2.06-.94-.94-2.06-.94 2.06-2.06.94zm-11 1L8.5 8.5l.94-2.06 2.06-.94-2.06-.94L8.5 2.5l-.94 2.06-2.06.94zm10 10l.94 2.06.94-2.06 2.06-.94-2.06-.94-.94-2.06-.94 2.06-2.06.94z\"/><path d=\"M17.41 7.96l-1.37-1.37c-.4-.4-.92-.59-1.43-.59-.52 0-1.04.2-1.43.59L10.3 9.45l-7.72 7.72c-.78.78-.78 2.05 0 2.83L4 21.41c.39.39.9.59 1.41.59.51 0 1.02-.2 1.41-.59l7.78-7.78 2.81-2.81c.8-.78.8-2.07 0-2.86zM5.41 20L4 18.59l7.72-7.72 1.47 1.35L5.41 20z\"/>\n",
              "  </svg>\n",
              "      </button>\n",
              "      \n",
              "  <style>\n",
              "    .colab-df-container {\n",
              "      display:flex;\n",
              "      flex-wrap:wrap;\n",
              "      gap: 12px;\n",
              "    }\n",
              "\n",
              "    .colab-df-convert {\n",
              "      background-color: #E8F0FE;\n",
              "      border: none;\n",
              "      border-radius: 50%;\n",
              "      cursor: pointer;\n",
              "      display: none;\n",
              "      fill: #1967D2;\n",
              "      height: 32px;\n",
              "      padding: 0 0 0 0;\n",
              "      width: 32px;\n",
              "    }\n",
              "\n",
              "    .colab-df-convert:hover {\n",
              "      background-color: #E2EBFA;\n",
              "      box-shadow: 0px 1px 2px rgba(60, 64, 67, 0.3), 0px 1px 3px 1px rgba(60, 64, 67, 0.15);\n",
              "      fill: #174EA6;\n",
              "    }\n",
              "\n",
              "    [theme=dark] .colab-df-convert {\n",
              "      background-color: #3B4455;\n",
              "      fill: #D2E3FC;\n",
              "    }\n",
              "\n",
              "    [theme=dark] .colab-df-convert:hover {\n",
              "      background-color: #434B5C;\n",
              "      box-shadow: 0px 1px 3px 1px rgba(0, 0, 0, 0.15);\n",
              "      filter: drop-shadow(0px 1px 2px rgba(0, 0, 0, 0.3));\n",
              "      fill: #FFFFFF;\n",
              "    }\n",
              "  </style>\n",
              "\n",
              "      <script>\n",
              "        const buttonEl =\n",
              "          document.querySelector('#df-d28dca83-a54c-4687-ba07-d174d936bc9c button.colab-df-convert');\n",
              "        buttonEl.style.display =\n",
              "          google.colab.kernel.accessAllowed ? 'block' : 'none';\n",
              "\n",
              "        async function convertToInteractive(key) {\n",
              "          const element = document.querySelector('#df-d28dca83-a54c-4687-ba07-d174d936bc9c');\n",
              "          const dataTable =\n",
              "            await google.colab.kernel.invokeFunction('convertToInteractive',\n",
              "                                                     [key], {});\n",
              "          if (!dataTable) return;\n",
              "\n",
              "          const docLinkHtml = 'Like what you see? Visit the ' +\n",
              "            '<a target=\"_blank\" href=https://colab.research.google.com/notebooks/data_table.ipynb>data table notebook</a>'\n",
              "            + ' to learn more about interactive tables.';\n",
              "          element.innerHTML = '';\n",
              "          dataTable['output_type'] = 'display_data';\n",
              "          await google.colab.output.renderOutput(dataTable, element);\n",
              "          const docLink = document.createElement('div');\n",
              "          docLink.innerHTML = docLinkHtml;\n",
              "          element.appendChild(docLink);\n",
              "        }\n",
              "      </script>\n",
              "    </div>\n",
              "  </div>\n",
              "  "
            ]
          },
          "metadata": {},
          "execution_count": 14
        }
      ],
      "source": [
        "df.describe()"
      ]
    },
    {
      "cell_type": "markdown",
      "source": [
        "Basic information related to data"
      ],
      "metadata": {
        "id": "TyVhXfeUbMVC"
      }
    },
    {
      "cell_type": "code",
      "execution_count": null,
      "metadata": {
        "colab": {
          "base_uri": "https://localhost:8080/"
        },
        "id": "gohUsnmNaon0",
        "outputId": "92aafb4f-5988-451d-fb19-7c04861ace72"
      },
      "outputs": [
        {
          "output_type": "stream",
          "name": "stdout",
          "text": [
            "<class 'pandas.core.frame.DataFrame'>\n",
            "RangeIndex: 4690 entries, 0 to 4689\n",
            "Data columns (total 24 columns):\n",
            " #   Column                 Non-Null Count  Dtype  \n",
            "---  ------                 --------------  -----  \n",
            " 0   adult                  4690 non-null   bool   \n",
            " 1   belongs_to_collection  609 non-null    object \n",
            " 2   budget                 4690 non-null   int64  \n",
            " 3   genres                 4690 non-null   object \n",
            " 4   homepage               1056 non-null   object \n",
            " 5   id                     4690 non-null   int64  \n",
            " 6   imdb_id                4673 non-null   object \n",
            " 7   original_language      4690 non-null   object \n",
            " 8   original_title         4690 non-null   object \n",
            " 9   overview               4657 non-null   object \n",
            " 10  popularity             4690 non-null   float64\n",
            " 11  poster_path            4677 non-null   object \n",
            " 12  production_companies   4690 non-null   object \n",
            " 13  production_countries   4690 non-null   object \n",
            " 14  release_date           4684 non-null   object \n",
            " 15  revenue                4690 non-null   float64\n",
            " 16  runtime                4686 non-null   float64\n",
            " 17  spoken_languages       4690 non-null   object \n",
            " 18  status                 4689 non-null   object \n",
            " 19  tagline                2766 non-null   object \n",
            " 20  title                  4690 non-null   object \n",
            " 21  video                  4690 non-null   bool   \n",
            " 22  vote_average           4690 non-null   float64\n",
            " 23  vote_count             4690 non-null   float64\n",
            "dtypes: bool(2), float64(5), int64(2), object(15)\n",
            "memory usage: 815.4+ KB\n"
          ]
        }
      ],
      "source": [
        "df.info()"
      ]
    },
    {
      "cell_type": "markdown",
      "source": [
        "Sum of total number of null values"
      ],
      "metadata": {
        "id": "C37swqoTbRpj"
      }
    },
    {
      "cell_type": "code",
      "execution_count": null,
      "metadata": {
        "colab": {
          "base_uri": "https://localhost:8080/"
        },
        "id": "7sDcf8Z5awTG",
        "outputId": "feebc7fc-2845-4a9e-c19b-6ab7cf7d8f1a"
      },
      "outputs": [
        {
          "output_type": "execute_result",
          "data": {
            "text/plain": [
              "adult                       0\n",
              "belongs_to_collection    4081\n",
              "budget                      0\n",
              "genres                      0\n",
              "homepage                 3634\n",
              "id                          0\n",
              "imdb_id                    17\n",
              "original_language           0\n",
              "original_title              0\n",
              "overview                   33\n",
              "popularity                  0\n",
              "poster_path                13\n",
              "production_companies        0\n",
              "production_countries        0\n",
              "release_date                6\n",
              "revenue                     0\n",
              "runtime                     4\n",
              "spoken_languages            0\n",
              "status                      1\n",
              "tagline                  1924\n",
              "title                       0\n",
              "video                       0\n",
              "vote_average                0\n",
              "vote_count                  0\n",
              "dtype: int64"
            ]
          },
          "metadata": {},
          "execution_count": 16
        }
      ],
      "source": [
        "df.isnull().sum()"
      ]
    },
    {
      "cell_type": "markdown",
      "source": [
        "Removing unwanted column"
      ],
      "metadata": {
        "id": "VnwbnvXbbqrg"
      }
    },
    {
      "cell_type": "code",
      "execution_count": null,
      "metadata": {
        "id": "rnCNrG1-a5y4"
      },
      "outputs": [],
      "source": [
        "df.drop(['video'],axis=1,inplace=True)"
      ]
    },
    {
      "cell_type": "code",
      "source": [
        "df.index"
      ],
      "metadata": {
        "colab": {
          "base_uri": "https://localhost:8080/"
        },
        "id": "JaCnhGDZcXj2",
        "outputId": "0c9c79f6-5ab5-434a-8024-a1cecb919d20"
      },
      "execution_count": null,
      "outputs": [
        {
          "output_type": "execute_result",
          "data": {
            "text/plain": [
              "Int64Index([   2,   38,  104,  107,  115,  139,  186,  195,  199,  204,\n",
              "            ...\n",
              "            4228, 4272, 4315, 4322, 4406, 4424, 4483, 4513, 4516, 4549],\n",
              "           dtype='int64', length=147)"
            ]
          },
          "metadata": {},
          "execution_count": 48
        }
      ]
    },
    {
      "cell_type": "code",
      "execution_count": null,
      "metadata": {
        "colab": {
          "base_uri": "https://localhost:8080/"
        },
        "id": "jcbRCgt_bLtV",
        "outputId": "d78115da-6c3d-45b7-8f77-c8b138c22717"
      },
      "outputs": [
        {
          "output_type": "execute_result",
          "data": {
            "text/plain": [
              "Index(['adult', 'belongs_to_collection', 'budget', 'genres', 'homepage', 'id',\n",
              "       'imdb_id', 'original_language', 'original_title', 'overview',\n",
              "       'popularity', 'poster_path', 'production_companies',\n",
              "       'production_countries', 'release_date', 'revenue', 'runtime',\n",
              "       'spoken_languages', 'status', 'tagline', 'title', 'vote_average',\n",
              "       'vote_count', 'profit', 'genre'],\n",
              "      dtype='object')"
            ]
          },
          "metadata": {},
          "execution_count": 50
        }
      ],
      "source": [
        "df.columns"
      ]
    },
    {
      "cell_type": "markdown",
      "source": [
        "Extracting values"
      ],
      "metadata": {
        "id": "NgV6RMCjdGIF"
      }
    },
    {
      "cell_type": "code",
      "source": [
        "df.iloc[[0,1,2]]   "
      ],
      "metadata": {
        "colab": {
          "base_uri": "https://localhost:8080/",
          "height": 497
        },
        "id": "19ZB291BdIcP",
        "outputId": "90d62238-bdc8-4614-89a4-8009797a8c9e"
      },
      "execution_count": null,
      "outputs": [
        {
          "output_type": "execute_result",
          "data": {
            "text/plain": [
              "     adult                              belongs_to_collection    budget  \\\n",
              "2    False  {'id': 645, 'name': 'James Bond Collection', '...  58000000   \n",
              "38   False  {'id': 10, 'name': 'Star Wars Collection', 'po...  11000000   \n",
              "104  False  {'id': 86027, 'name': 'Aladdin Collection', 'p...  28000000   \n",
              "\n",
              "                                                genres  \\\n",
              "2    [{'id': 12, 'name': 'Adventure'}, {'id': 28, '...   \n",
              "38   [{'id': 12, 'name': 'Adventure'}, {'id': 28, '...   \n",
              "104  [{'id': 16, 'name': 'Animation'}, {'id': 10751...   \n",
              "\n",
              "                                              homepage   id    imdb_id  \\\n",
              "2         http://www.mgm.com/view/movie/757/Goldeneye/  710  tt0113189   \n",
              "38   http://www.starwars.com/films/star-wars-episod...   11  tt0076759   \n",
              "104                   http://movies.disney.com/aladdin  812  tt0103639   \n",
              "\n",
              "    original_language original_title  \\\n",
              "2                  en      GoldenEye   \n",
              "38                 en      Star Wars   \n",
              "104                en        Aladdin   \n",
              "\n",
              "                                              overview  ...      revenue  \\\n",
              "2    James Bond must unmask the mysterious head of ...  ...  352194034.0   \n",
              "38   Princess Leia is captured and held hostage by ...  ...  775398007.0   \n",
              "104  Princess Jasmine grows tired of being forced t...  ...  504050219.0   \n",
              "\n",
              "    runtime                                   spoken_languages    status  \\\n",
              "2     130.0  [{'iso_639_1': 'en', 'name': 'English'}, {'iso...  Released   \n",
              "38    121.0           [{'iso_639_1': 'en', 'name': 'English'}]  Released   \n",
              "104    90.0           [{'iso_639_1': 'en', 'name': 'English'}]  Released   \n",
              "\n",
              "                                          tagline      title  vote_average  \\\n",
              "2            No limits. No fears. No substitutes.  GoldenEye           6.6   \n",
              "38   A long time ago in a galaxy far, far away...  Star Wars           8.1   \n",
              "104                                 Wish granted!    Aladdin           7.4   \n",
              "\n",
              "    vote_count       profit                                              genre  \n",
              "2       1194.0  294194034.0  [{'id': 12, 'name': 'Adventure'}, {'id': 28, '...  \n",
              "38      6778.0  764398007.0  [{'id': 12, 'name': 'Adventure'}, {'id': 28, '...  \n",
              "104     3495.0  476050219.0  [{'id': 16, 'name': 'Animation'}, {'id': 10751...  \n",
              "\n",
              "[3 rows x 25 columns]"
            ],
            "text/html": [
              "\n",
              "  <div id=\"df-40c5850a-e9f0-4554-b417-871f97faac07\">\n",
              "    <div class=\"colab-df-container\">\n",
              "      <div>\n",
              "<style scoped>\n",
              "    .dataframe tbody tr th:only-of-type {\n",
              "        vertical-align: middle;\n",
              "    }\n",
              "\n",
              "    .dataframe tbody tr th {\n",
              "        vertical-align: top;\n",
              "    }\n",
              "\n",
              "    .dataframe thead th {\n",
              "        text-align: right;\n",
              "    }\n",
              "</style>\n",
              "<table border=\"1\" class=\"dataframe\">\n",
              "  <thead>\n",
              "    <tr style=\"text-align: right;\">\n",
              "      <th></th>\n",
              "      <th>adult</th>\n",
              "      <th>belongs_to_collection</th>\n",
              "      <th>budget</th>\n",
              "      <th>genres</th>\n",
              "      <th>homepage</th>\n",
              "      <th>id</th>\n",
              "      <th>imdb_id</th>\n",
              "      <th>original_language</th>\n",
              "      <th>original_title</th>\n",
              "      <th>overview</th>\n",
              "      <th>...</th>\n",
              "      <th>revenue</th>\n",
              "      <th>runtime</th>\n",
              "      <th>spoken_languages</th>\n",
              "      <th>status</th>\n",
              "      <th>tagline</th>\n",
              "      <th>title</th>\n",
              "      <th>vote_average</th>\n",
              "      <th>vote_count</th>\n",
              "      <th>profit</th>\n",
              "      <th>genre</th>\n",
              "    </tr>\n",
              "  </thead>\n",
              "  <tbody>\n",
              "    <tr>\n",
              "      <th>2</th>\n",
              "      <td>False</td>\n",
              "      <td>{'id': 645, 'name': 'James Bond Collection', '...</td>\n",
              "      <td>58000000</td>\n",
              "      <td>[{'id': 12, 'name': 'Adventure'}, {'id': 28, '...</td>\n",
              "      <td>http://www.mgm.com/view/movie/757/Goldeneye/</td>\n",
              "      <td>710</td>\n",
              "      <td>tt0113189</td>\n",
              "      <td>en</td>\n",
              "      <td>GoldenEye</td>\n",
              "      <td>James Bond must unmask the mysterious head of ...</td>\n",
              "      <td>...</td>\n",
              "      <td>352194034.0</td>\n",
              "      <td>130.0</td>\n",
              "      <td>[{'iso_639_1': 'en', 'name': 'English'}, {'iso...</td>\n",
              "      <td>Released</td>\n",
              "      <td>No limits. No fears. No substitutes.</td>\n",
              "      <td>GoldenEye</td>\n",
              "      <td>6.6</td>\n",
              "      <td>1194.0</td>\n",
              "      <td>294194034.0</td>\n",
              "      <td>[{'id': 12, 'name': 'Adventure'}, {'id': 28, '...</td>\n",
              "    </tr>\n",
              "    <tr>\n",
              "      <th>38</th>\n",
              "      <td>False</td>\n",
              "      <td>{'id': 10, 'name': 'Star Wars Collection', 'po...</td>\n",
              "      <td>11000000</td>\n",
              "      <td>[{'id': 12, 'name': 'Adventure'}, {'id': 28, '...</td>\n",
              "      <td>http://www.starwars.com/films/star-wars-episod...</td>\n",
              "      <td>11</td>\n",
              "      <td>tt0076759</td>\n",
              "      <td>en</td>\n",
              "      <td>Star Wars</td>\n",
              "      <td>Princess Leia is captured and held hostage by ...</td>\n",
              "      <td>...</td>\n",
              "      <td>775398007.0</td>\n",
              "      <td>121.0</td>\n",
              "      <td>[{'iso_639_1': 'en', 'name': 'English'}]</td>\n",
              "      <td>Released</td>\n",
              "      <td>A long time ago in a galaxy far, far away...</td>\n",
              "      <td>Star Wars</td>\n",
              "      <td>8.1</td>\n",
              "      <td>6778.0</td>\n",
              "      <td>764398007.0</td>\n",
              "      <td>[{'id': 12, 'name': 'Adventure'}, {'id': 28, '...</td>\n",
              "    </tr>\n",
              "    <tr>\n",
              "      <th>104</th>\n",
              "      <td>False</td>\n",
              "      <td>{'id': 86027, 'name': 'Aladdin Collection', 'p...</td>\n",
              "      <td>28000000</td>\n",
              "      <td>[{'id': 16, 'name': 'Animation'}, {'id': 10751...</td>\n",
              "      <td>http://movies.disney.com/aladdin</td>\n",
              "      <td>812</td>\n",
              "      <td>tt0103639</td>\n",
              "      <td>en</td>\n",
              "      <td>Aladdin</td>\n",
              "      <td>Princess Jasmine grows tired of being forced t...</td>\n",
              "      <td>...</td>\n",
              "      <td>504050219.0</td>\n",
              "      <td>90.0</td>\n",
              "      <td>[{'iso_639_1': 'en', 'name': 'English'}]</td>\n",
              "      <td>Released</td>\n",
              "      <td>Wish granted!</td>\n",
              "      <td>Aladdin</td>\n",
              "      <td>7.4</td>\n",
              "      <td>3495.0</td>\n",
              "      <td>476050219.0</td>\n",
              "      <td>[{'id': 16, 'name': 'Animation'}, {'id': 10751...</td>\n",
              "    </tr>\n",
              "  </tbody>\n",
              "</table>\n",
              "<p>3 rows × 25 columns</p>\n",
              "</div>\n",
              "      <button class=\"colab-df-convert\" onclick=\"convertToInteractive('df-40c5850a-e9f0-4554-b417-871f97faac07')\"\n",
              "              title=\"Convert this dataframe to an interactive table.\"\n",
              "              style=\"display:none;\">\n",
              "        \n",
              "  <svg xmlns=\"http://www.w3.org/2000/svg\" height=\"24px\"viewBox=\"0 0 24 24\"\n",
              "       width=\"24px\">\n",
              "    <path d=\"M0 0h24v24H0V0z\" fill=\"none\"/>\n",
              "    <path d=\"M18.56 5.44l.94 2.06.94-2.06 2.06-.94-2.06-.94-.94-2.06-.94 2.06-2.06.94zm-11 1L8.5 8.5l.94-2.06 2.06-.94-2.06-.94L8.5 2.5l-.94 2.06-2.06.94zm10 10l.94 2.06.94-2.06 2.06-.94-2.06-.94-.94-2.06-.94 2.06-2.06.94z\"/><path d=\"M17.41 7.96l-1.37-1.37c-.4-.4-.92-.59-1.43-.59-.52 0-1.04.2-1.43.59L10.3 9.45l-7.72 7.72c-.78.78-.78 2.05 0 2.83L4 21.41c.39.39.9.59 1.41.59.51 0 1.02-.2 1.41-.59l7.78-7.78 2.81-2.81c.8-.78.8-2.07 0-2.86zM5.41 20L4 18.59l7.72-7.72 1.47 1.35L5.41 20z\"/>\n",
              "  </svg>\n",
              "      </button>\n",
              "      \n",
              "  <style>\n",
              "    .colab-df-container {\n",
              "      display:flex;\n",
              "      flex-wrap:wrap;\n",
              "      gap: 12px;\n",
              "    }\n",
              "\n",
              "    .colab-df-convert {\n",
              "      background-color: #E8F0FE;\n",
              "      border: none;\n",
              "      border-radius: 50%;\n",
              "      cursor: pointer;\n",
              "      display: none;\n",
              "      fill: #1967D2;\n",
              "      height: 32px;\n",
              "      padding: 0 0 0 0;\n",
              "      width: 32px;\n",
              "    }\n",
              "\n",
              "    .colab-df-convert:hover {\n",
              "      background-color: #E2EBFA;\n",
              "      box-shadow: 0px 1px 2px rgba(60, 64, 67, 0.3), 0px 1px 3px 1px rgba(60, 64, 67, 0.15);\n",
              "      fill: #174EA6;\n",
              "    }\n",
              "\n",
              "    [theme=dark] .colab-df-convert {\n",
              "      background-color: #3B4455;\n",
              "      fill: #D2E3FC;\n",
              "    }\n",
              "\n",
              "    [theme=dark] .colab-df-convert:hover {\n",
              "      background-color: #434B5C;\n",
              "      box-shadow: 0px 1px 3px 1px rgba(0, 0, 0, 0.15);\n",
              "      filter: drop-shadow(0px 1px 2px rgba(0, 0, 0, 0.3));\n",
              "      fill: #FFFFFF;\n",
              "    }\n",
              "  </style>\n",
              "\n",
              "      <script>\n",
              "        const buttonEl =\n",
              "          document.querySelector('#df-40c5850a-e9f0-4554-b417-871f97faac07 button.colab-df-convert');\n",
              "        buttonEl.style.display =\n",
              "          google.colab.kernel.accessAllowed ? 'block' : 'none';\n",
              "\n",
              "        async function convertToInteractive(key) {\n",
              "          const element = document.querySelector('#df-40c5850a-e9f0-4554-b417-871f97faac07');\n",
              "          const dataTable =\n",
              "            await google.colab.kernel.invokeFunction('convertToInteractive',\n",
              "                                                     [key], {});\n",
              "          if (!dataTable) return;\n",
              "\n",
              "          const docLinkHtml = 'Like what you see? Visit the ' +\n",
              "            '<a target=\"_blank\" href=https://colab.research.google.com/notebooks/data_table.ipynb>data table notebook</a>'\n",
              "            + ' to learn more about interactive tables.';\n",
              "          element.innerHTML = '';\n",
              "          dataTable['output_type'] = 'display_data';\n",
              "          await google.colab.output.renderOutput(dataTable, element);\n",
              "          const docLink = document.createElement('div');\n",
              "          docLink.innerHTML = docLinkHtml;\n",
              "          element.appendChild(docLink);\n",
              "        }\n",
              "      </script>\n",
              "    </div>\n",
              "  </div>\n",
              "  "
            ]
          },
          "metadata": {},
          "execution_count": 51
        }
      ]
    },
    {
      "cell_type": "code",
      "source": [
        "df.mean()"
      ],
      "metadata": {
        "colab": {
          "base_uri": "https://localhost:8080/"
        },
        "id": "gxqaCZVEdUSG",
        "outputId": "a5a5149a-bc7a-4dd7-a3a6-7a6ba760a97d"
      },
      "execution_count": null,
      "outputs": [
        {
          "output_type": "stream",
          "name": "stderr",
          "text": [
            "/usr/local/lib/python3.7/dist-packages/ipykernel_launcher.py:1: FutureWarning: Dropping of nuisance columns in DataFrame reductions (with 'numeric_only=None') is deprecated; in a future version this will raise TypeError.  Select only valid columns before calling the reduction.\n",
            "  \"\"\"Entry point for launching an IPython kernel.\n"
          ]
        },
        {
          "output_type": "execute_result",
          "data": {
            "text/plain": [
              "adult           0.000000e+00\n",
              "budget          6.503916e+07\n",
              "id              7.249382e+04\n",
              "popularity      1.551191e+01\n",
              "revenue         2.907145e+08\n",
              "runtime         1.095510e+02\n",
              "vote_average    6.470068e+00\n",
              "vote_count      2.126571e+03\n",
              "profit          2.256754e+08\n",
              "dtype: float64"
            ]
          },
          "metadata": {},
          "execution_count": 53
        }
      ]
    },
    {
      "cell_type": "markdown",
      "source": [
        "Visualization of each column"
      ],
      "metadata": {
        "id": "nu9Nh0L1dqVz"
      }
    },
    {
      "cell_type": "code",
      "execution_count": null,
      "metadata": {
        "colab": {
          "base_uri": "https://localhost:8080/",
          "height": 879
        },
        "id": "au9BHlBbbOgM",
        "outputId": "5692a4b6-bb16-410e-899c-8c1cc22c6515"
      },
      "outputs": [
        {
          "output_type": "display_data",
          "data": {
            "text/plain": [
              "<Figure size 1080x1080 with 9 Axes>"
            ],
            "image/png": "[encoded data removed]"
          },
          "metadata": {
            "needs_background": "light"
          }
        }
      ],
      "source": [
        "# visulize each variables \n",
        "df.hist(figsize=(15,15));"
      ]
    },
    {
      "cell_type": "markdown",
      "source": [
        "Boxgraph of revenue"
      ],
      "metadata": {
        "id": "m6scLItihdQx"
      }
    },
    {
      "cell_type": "code",
      "source": [
        "df.boxplot(column='revenue', figsize =(15,10))"
      ],
      "metadata": {
        "colab": {
          "base_uri": "https://localhost:8080/",
          "height": 619
        },
        "id": "Eae8ue82d5sj",
        "outputId": "6ecc04bb-1373-4386-e1d4-e99d0718b6e9"
      },
      "execution_count": null,
      "outputs": [
        {
          "output_type": "execute_result",
          "data": {
            "text/plain": [
              "<matplotlib.axes._subplots.AxesSubplot at 0x7f7f1cfc8710>"
            ]
          },
          "metadata": {},
          "execution_count": 55
        },
        {
          "output_type": "display_data",
          "data": {
            "text/plain": [
              "<Figure size 1080x720 with 1 Axes>"
            ],
            "image/png": "[encoded data removed]"
          },
          "metadata": {
            "needs_background": "light"
          }
        }
      ]
    },
    {
      "cell_type": "code",
      "source": [
        "df = df.replace([np.inf, -np.inf], np.nan).dropna(axis=0)\n",
        "print(df)"
      ],
      "metadata": {
        "colab": {
          "base_uri": "https://localhost:8080/"
        },
        "id": "Wb7h_h9DXcG_",
        "outputId": "4b2c5f46-c032-4acf-d10d-bd4d49ed4907"
      },
      "execution_count": null,
      "outputs": [
        {
          "output_type": "stream",
          "name": "stdout",
          "text": [
            "      adult                              belongs_to_collection    budget  \\\n",
            "2     False  {'id': 645, 'name': 'James Bond Collection', '...  58000000   \n",
            "38    False  {'id': 10, 'name': 'Star Wars Collection', 'po...  11000000   \n",
            "104   False  {'id': 86027, 'name': 'Aladdin Collection', 'p...  28000000   \n",
            "107   False  {'id': 153010, 'name': 'Beauty and the Beast C...  25000000   \n",
            "115   False  {'id': 87359, 'name': 'Mission: Impossible Col...  80000000   \n",
            "...     ...                                                ...       ...   \n",
            "4424  False  {'id': 142021, 'name': 'Dhamaal Collection', '...         0   \n",
            "4483  False  {'id': 25542, 'name': 'An American Girl Collec...         0   \n",
            "4513  False  {'id': 52785, 'name': 'xXx Collection', 'poste...  85000000   \n",
            "4516  False  {'id': 325470, 'name': 'The Lego Movie Collect...  80000000   \n",
            "4549  False  {'id': 113589, 'name': 'The Hire', 'poster_pat...         0   \n",
            "\n",
            "                                                 genres  \\\n",
            "2     [{'id': 12, 'name': 'Adventure'}, {'id': 28, '...   \n",
            "38    [{'id': 12, 'name': 'Adventure'}, {'id': 28, '...   \n",
            "104   [{'id': 16, 'name': 'Animation'}, {'id': 10751...   \n",
            "107   [{'id': 10749, 'name': 'Romance'}, {'id': 1075...   \n",
            "115   [{'id': 12, 'name': 'Adventure'}, {'id': 28, '...   \n",
            "...                                                 ...   \n",
            "4424                     [{'id': 35, 'name': 'Comedy'}]   \n",
            "4483  [{'id': 18, 'name': 'Drama'}, {'id': 10751, 'n...   \n",
            "4513  [{'id': 28, 'name': 'Action'}, {'id': 12, 'nam...   \n",
            "4516  [{'id': 28, 'name': 'Action'}, {'id': 16, 'nam...   \n",
            "4549  [{'id': 53, 'name': 'Thriller'}, {'id': 28, 'n...   \n",
            "\n",
            "                                               homepage      id    imdb_id  \\\n",
            "2          http://www.mgm.com/view/movie/757/Goldeneye/     710  tt0113189   \n",
            "38    http://www.starwars.com/films/star-wars-episod...      11  tt0076759   \n",
            "104                    http://movies.disney.com/aladdin     812  tt0103639   \n",
            "107   http://disney.go.com/disneyvideos/animatedfilm...   10020  tt0101414   \n",
            "115                   http://www.missionimpossible.com/     954  tt0117060   \n",
            "...                                                 ...     ...        ...   \n",
            "4424                     http://www.dhamaalthefilm.com/   20413  tt0845448   \n",
            "4483  http://www.americangirl.com/movie/molly/about.php   37453  tt0828151   \n",
            "4513                      http://returnofxandercage.com   47971  tt1293847   \n",
            "4516                          http://www.legobatman.com  324849  tt4116284   \n",
            "4549                               http://bmwfilms.com/  417004  tt6078822   \n",
            "\n",
            "     original_language                             original_title  \\\n",
            "2                   en                                  GoldenEye   \n",
            "38                  en                                  Star Wars   \n",
            "104                 en                                    Aladdin   \n",
            "107                 en                       Beauty and the Beast   \n",
            "115                 en                        Mission: Impossible   \n",
            "...                ...                                        ...   \n",
            "4424                hi                                    Dhamaal   \n",
            "4483                en  Molly: An American Girl on the Home Front   \n",
            "4513                en                 xXx: Return of Xander Cage   \n",
            "4516                en                      The Lego Batman Movie   \n",
            "4549                en                                 The Escape   \n",
            "\n",
            "                                               overview  ...      revenue  \\\n",
            "2     James Bond must unmask the mysterious head of ...  ...  352194034.0   \n",
            "38    Princess Leia is captured and held hostage by ...  ...  775398007.0   \n",
            "104   Princess Jasmine grows tired of being forced t...  ...  504050219.0   \n",
            "107   Follow the adventures of Belle, a bright young...  ...  377350553.0   \n",
            "115   When Ethan Hunt, the leader of a crack espiona...  ...  457696359.0   \n",
            "...                                                 ...  ...          ...   \n",
            "4424  Dhamaal is about four friends; Boman Contracto...  ...          0.0   \n",
            "4483  Molly is a girl living in the year 1944 and WW...  ...          0.0   \n",
            "4513  Extreme athlete turned government operative Xa...  ...  346147658.0   \n",
            "4516  In the irreverent spirit of fun that made “The...  ...  311950384.0   \n",
            "4549  After the controversial disappearance of their...  ...          0.0   \n",
            "\n",
            "     runtime                                   spoken_languages    status  \\\n",
            "2      130.0  [{'iso_639_1': 'en', 'name': 'English'}, {'iso...  Released   \n",
            "38     121.0           [{'iso_639_1': 'en', 'name': 'English'}]  Released   \n",
            "104     90.0           [{'iso_639_1': 'en', 'name': 'English'}]  Released   \n",
            "107     84.0  [{'iso_639_1': 'fr', 'name': 'Français'}, {'is...  Released   \n",
            "115    110.0  [{'iso_639_1': 'en', 'name': 'English'}, {'iso...  Released   \n",
            "...      ...                                                ...       ...   \n",
            "4424   135.0            [{'iso_639_1': 'hi', 'name': 'हिन्दी'}]  Released   \n",
            "4483    85.0                                                 []  Released   \n",
            "4513   107.0           [{'iso_639_1': 'en', 'name': 'English'}]  Released   \n",
            "4516   104.0           [{'iso_639_1': 'en', 'name': 'English'}]  Released   \n",
            "4549    13.0           [{'iso_639_1': 'en', 'name': 'English'}]  Released   \n",
            "\n",
            "                                                tagline  \\\n",
            "2                  No limits. No fears. No substitutes.   \n",
            "38         A long time ago in a galaxy far, far away...   \n",
            "104                                       Wish granted!   \n",
            "107            The most beautiful love story ever told.   \n",
            "115                              Expect the Impossible.   \n",
            "...                                                 ...   \n",
            "4424  Bollywood's answer to the 1963 comedy 'It's a ...   \n",
            "4483  The world is at war and one girl's hope and co...   \n",
            "4513  There are no more patriots, just rebels and ty...   \n",
            "4516      Always be yourself. Unless you can be Batman.   \n",
            "4549                               So that one may live   \n",
            "\n",
            "                                          title  vote_average vote_count  \\\n",
            "2                                     GoldenEye           6.6     1194.0   \n",
            "38                                    Star Wars           8.1     6778.0   \n",
            "104                                     Aladdin           7.4     3495.0   \n",
            "107                        Beauty and the Beast           7.5     3029.0   \n",
            "115                         Mission: Impossible           6.7     2677.0   \n",
            "...                                         ...           ...        ...   \n",
            "4424                                    Dhamaal           6.1       18.0   \n",
            "4483  Molly: An American Girl on the Home Front           2.0        2.0   \n",
            "4513                 xXx: Return of Xander Cage           5.5     1497.0   \n",
            "4516                      The Lego Batman Movie           7.2     1473.0   \n",
            "4549                                 The Escape           7.2        6.0   \n",
            "\n",
            "           profit                                              genre  \n",
            "2     294194034.0  [{'id': 12, 'name': 'Adventure'}, {'id': 28, '...  \n",
            "38    764398007.0  [{'id': 12, 'name': 'Adventure'}, {'id': 28, '...  \n",
            "104   476050219.0  [{'id': 16, 'name': 'Animation'}, {'id': 10751...  \n",
            "107   352350553.0  [{'id': 10749, 'name': 'Romance'}, {'id': 1075...  \n",
            "115   377696359.0  [{'id': 12, 'name': 'Adventure'}, {'id': 28, '...  \n",
            "...           ...                                                ...  \n",
            "4424          0.0                     [{'id': 35, 'name': 'Comedy'}]  \n",
            "4483          0.0  [{'id': 18, 'name': 'Drama'}, {'id': 10751, 'n...  \n",
            "4513  261147658.0  [{'id': 28, 'name': 'Action'}, {'id': 12, 'nam...  \n",
            "4516  231950384.0  [{'id': 28, 'name': 'Action'}, {'id': 16, 'nam...  \n",
            "4549          0.0  [{'id': 53, 'name': 'Thriller'}, {'id': 28, 'n...  \n",
            "\n",
            "[147 rows x 25 columns]\n"
          ]
        }
      ]
    },
    {
      "cell_type": "markdown",
      "source": [
        "Q. What is the relationship between budget and popularity?"
      ],
      "metadata": {
        "id": "jkeE0GGzjZ3Y"
      }
    },
    {
      "cell_type": "code",
      "execution_count": null,
      "metadata": {
        "colab": {
          "base_uri": "https://localhost:8080/",
          "height": 315
        },
        "id": "m2lpUKTfgDrV",
        "outputId": "32b8a747-053b-470f-e737-45877793c386"
      },
      "outputs": [
        {
          "output_type": "execute_result",
          "data": {
            "text/plain": [
              "Text(0, 0.5, 'Popularity of movie')"
            ]
          },
          "metadata": {},
          "execution_count": 65
        },
        {
          "output_type": "display_data",
          "data": {
            "text/plain": [
              "<Figure size 432x288 with 1 Axes>"
            ],
            "image/png": "[encoded data removed]"
          },
          "metadata": {
            "needs_background": "light"
          }
        }
      ],
      "source": [
        "# relation between budget and popularity \n",
        "x = df['budget']\n",
        "y = df['popularity'] \n",
        "plt.scatter(x,y)\n",
        "plt.title('Average Popularity by Different budget',fontsize=12)\n",
        "plt.xlabel('Budget of movie',fontsize=12)\n",
        "plt.ylabel('Popularity of movie',fontsize=12)\n"
      ]
    },
    {
      "cell_type": "code",
      "source": [
        "#  dividing the budget into two groups : low and high\n",
        "a = df['budget'].median()\n",
        "low_budg =  df.query('budget < {}'.format(a))\n",
        "high_budg =  df.query('budget >= {}'.format(a))"
      ],
      "metadata": {
        "id": "90L6sYvZ-GkT"
      },
      "execution_count": null,
      "outputs": []
    },
    {
      "cell_type": "code",
      "source": [
        "# check low budget and high budget mean values respecively \n",
        "mean_popularity_of_low_budget = low_budg['popularity'].mean()\n",
        "mean_popularity_of_high_budget = high_budg['popularity'].mean()"
      ],
      "metadata": {
        "id": "Arcp6-Il-L9x"
      },
      "execution_count": null,
      "outputs": []
    },
    {
      "cell_type": "code",
      "source": [
        "# Bar chart with the values obtained\n",
        "locations = [1,2]\n",
        "heights = [mean_popularity_of_low_budget , mean_popularity_of_high_budget]\n",
        "labels=['low','high']\n",
        "plt.bar(locations, heights, tick_label = labels)\n",
        "plt.title('Average Popularity at high and low budgets')\n",
        "plt.xlabel('Budgets')\n",
        "plt.ylabel('Average Popularity')"
      ],
      "metadata": {
        "colab": {
          "base_uri": "https://localhost:8080/",
          "height": 312
        },
        "id": "DLwPy0Ge-Pug",
        "outputId": "37bae155-63ec-438c-b813-8be8632153e7"
      },
      "execution_count": null,
      "outputs": [
        {
          "output_type": "execute_result",
          "data": {
            "text/plain": [
              "Text(0, 0.5, 'Average Popularity')"
            ]
          },
          "metadata": {},
          "execution_count": 70
        },
        {
          "output_type": "display_data",
          "data": {
            "text/plain": [
              "<Figure size 432x288 with 1 Axes>"
            ],
            "image/png": "[encoded data removed]"
          },
          "metadata": {
            "needs_background": "light"
          }
        }
      ]
    },
    {
      "cell_type": "markdown",
      "source": [
        "Conlcusion: This bar plot depicts that high budget movies are more likely to have higher popularity.Higeher budget movies gains more than 43% higher popularity than low budget movies. "
      ],
      "metadata": {
        "id": "YipKh0TjkNwo"
      }
    },
    {
      "cell_type": "code",
      "source": [
        "increase_percentage = (mean_popularity_of_high_budget - mean_popularity_of_low_budget) / mean_popularity_of_high_budget * 100\n",
        "increase_percentage"
      ],
      "metadata": {
        "colab": {
          "base_uri": "https://localhost:8080/"
        },
        "id": "vDCymYRA-WB9",
        "outputId": "e4fe16a1-6ad9-4572-982b-61706f1b8350"
      },
      "execution_count": null,
      "outputs": [
        {
          "output_type": "execute_result",
          "data": {
            "text/plain": [
              "43.62039086185061"
            ]
          },
          "metadata": {},
          "execution_count": 71
        }
      ]
    },
    {
      "cell_type": "markdown",
      "source": [
        "\n",
        "\n",
        "Q2: What length of the movie will receive the highest popularity?\n"
      ],
      "metadata": {
        "id": "dT-q-03N-g6M"
      }
    },
    {
      "cell_type": "code",
      "source": [
        "# We will create 3 groups with query().  <60 min: short   , 60 min <=  <= - 120 min: medium ,  >120 min: long \n",
        "short =  df.query('runtime < {}'.format(100))\n",
        "medium =  df.query('runtime < {}'.format(200))\n",
        "long = df.query('runtime > {}'.format(200))"
      ],
      "metadata": {
        "id": "d1HIHMhd-lQX"
      },
      "execution_count": null,
      "outputs": []
    },
    {
      "cell_type": "code",
      "source": [
        "# check mean popularity of different movie lengths \n",
        "mean_popularity_of_short = short['popularity'].mean()\n",
        "mean_popularity_of_medium = medium['popularity'].mean()\n",
        "mean_popularity_of_long = long['popularity'].mean()"
      ],
      "metadata": {
        "id": "xVtDu9nP-shQ"
      },
      "execution_count": null,
      "outputs": []
    },
    {
      "cell_type": "code",
      "source": [
        "locations = [1,2,3]\n",
        "heights = [mean_popularity_of_short, mean_popularity_of_medium, mean_popularity_of_long]\n",
        "labels=['low','medium','high']\n",
        "plt.bar(locations, heights, tick_label = labels)\n",
        "plt.title('Average Popularity by Different Runtime')\n",
        "plt.xlabel('Runtime')\n",
        "plt.ylabel('Average Popularity')"
      ],
      "metadata": {
        "colab": {
          "base_uri": "https://localhost:8080/",
          "height": 312
        },
        "id": "oUZ5zMUf-xAh",
        "outputId": "04be164d-46e1-42cb-c410-b3bf77457632"
      },
      "execution_count": null,
      "outputs": [
        {
          "output_type": "execute_result",
          "data": {
            "text/plain": [
              "Text(0, 0.5, 'Average Popularity')"
            ]
          },
          "metadata": {},
          "execution_count": 82
        },
        {
          "output_type": "display_data",
          "data": {
            "text/plain": [
              "<Figure size 432x288 with 1 Axes>"
            ],
            "image/png": "[encoded data removed]"
          },
          "metadata": {
            "needs_background": "light"
          }
        }
      ]
    },
    {
      "cell_type": "code",
      "source": [
        "# plot the relation between runtime and popularity \n",
        "x = df['runtime']\n",
        "y = df['popularity'] \n",
        "\n",
        "plt.scatter(x,y)\n",
        "\n",
        "plt.title('Average Popularity by Different Runtime',fontsize=12)\n",
        "plt.xlabel('runtime',fontsize=12)\n",
        "plt.ylabel('popularity',fontsize=12)"
      ],
      "metadata": {
        "colab": {
          "base_uri": "https://localhost:8080/",
          "height": 315
        },
        "id": "qki6_hiU-4aq",
        "outputId": "c6aafcc4-cb60-46a2-d40e-747d0c515afb"
      },
      "execution_count": null,
      "outputs": [
        {
          "output_type": "execute_result",
          "data": {
            "text/plain": [
              "Text(0, 0.5, 'popularity')"
            ]
          },
          "metadata": {},
          "execution_count": 85
        },
        {
          "output_type": "display_data",
          "data": {
            "text/plain": [
              "<Figure size 432x288 with 1 Axes>"
            ],
            "image/png": "[encoded data removed]"
          },
          "metadata": {
            "needs_background": "light"
          }
        }
      ]
    },
    {
      "cell_type": "code",
      "source": [
        "\n",
        "# we need to get the mean of popularity \n",
        "m_popularity = df['popularity'].median()\n",
        "lower_popularity =  df.query('popularity < {}'.format(m_popularity))\n",
        "higher_popularity =  df.query('popularity >= {}'.format(m_popularity))"
      ],
      "metadata": {
        "id": "L6HkR3EB-9W9"
      },
      "execution_count": null,
      "outputs": []
    },
    {
      "cell_type": "code",
      "source": [
        "# create a new column called profit. profit = Revenue - budget\n",
        "df['profit'] = df['revenue'] - df['budget']\n",
        "#df['profit'].head(20)\n",
        "#df.head()"
      ],
      "metadata": {
        "id": "Ik83WTny_Cr4"
      },
      "execution_count": null,
      "outputs": []
    },
    {
      "cell_type": "code",
      "source": [
        "# average net profit for low_popularity and high_popularity\n",
        "mean_profit_of_low_popularity = lower_popularity['profit'].mean()\n",
        "mean_profit_of_high_popularity = higher_popularity['profit'].mean()\n",
        "df.head()"
      ],
      "metadata": {
        "colab": {
          "base_uri": "https://localhost:8080/",
          "height": 716
        },
        "id": "7DPMuUpc_Hco",
        "outputId": "f39663e9-c66b-4539-e832-0811a6ee581a"
      },
      "execution_count": null,
      "outputs": [
        {
          "output_type": "execute_result",
          "data": {
            "text/plain": [
              "     adult                              belongs_to_collection    budget  \\\n",
              "2    False  {'id': 645, 'name': 'James Bond Collection', '...  58000000   \n",
              "38   False  {'id': 10, 'name': 'Star Wars Collection', 'po...  11000000   \n",
              "104  False  {'id': 86027, 'name': 'Aladdin Collection', 'p...  28000000   \n",
              "107  False  {'id': 153010, 'name': 'Beauty and the Beast C...  25000000   \n",
              "115  False  {'id': 87359, 'name': 'Mission: Impossible Col...  80000000   \n",
              "\n",
              "                                                genres  \\\n",
              "2    [{'id': 12, 'name': 'Adventure'}, {'id': 28, '...   \n",
              "38   [{'id': 12, 'name': 'Adventure'}, {'id': 28, '...   \n",
              "104  [{'id': 16, 'name': 'Animation'}, {'id': 10751...   \n",
              "107  [{'id': 10749, 'name': 'Romance'}, {'id': 1075...   \n",
              "115  [{'id': 12, 'name': 'Adventure'}, {'id': 28, '...   \n",
              "\n",
              "                                              homepage     id    imdb_id  \\\n",
              "2         http://www.mgm.com/view/movie/757/Goldeneye/    710  tt0113189   \n",
              "38   http://www.starwars.com/films/star-wars-episod...     11  tt0076759   \n",
              "104                   http://movies.disney.com/aladdin    812  tt0103639   \n",
              "107  http://disney.go.com/disneyvideos/animatedfilm...  10020  tt0101414   \n",
              "115                  http://www.missionimpossible.com/    954  tt0117060   \n",
              "\n",
              "    original_language        original_title  \\\n",
              "2                  en             GoldenEye   \n",
              "38                 en             Star Wars   \n",
              "104                en               Aladdin   \n",
              "107                en  Beauty and the Beast   \n",
              "115                en   Mission: Impossible   \n",
              "\n",
              "                                              overview  ...      revenue  \\\n",
              "2    James Bond must unmask the mysterious head of ...  ...  352194034.0   \n",
              "38   Princess Leia is captured and held hostage by ...  ...  775398007.0   \n",
              "104  Princess Jasmine grows tired of being forced t...  ...  504050219.0   \n",
              "107  Follow the adventures of Belle, a bright young...  ...  377350553.0   \n",
              "115  When Ethan Hunt, the leader of a crack espiona...  ...  457696359.0   \n",
              "\n",
              "    runtime                                   spoken_languages    status  \\\n",
              "2     130.0  [{'iso_639_1': 'en', 'name': 'English'}, {'iso...  Released   \n",
              "38    121.0           [{'iso_639_1': 'en', 'name': 'English'}]  Released   \n",
              "104    90.0           [{'iso_639_1': 'en', 'name': 'English'}]  Released   \n",
              "107    84.0  [{'iso_639_1': 'fr', 'name': 'Français'}, {'is...  Released   \n",
              "115   110.0  [{'iso_639_1': 'en', 'name': 'English'}, {'iso...  Released   \n",
              "\n",
              "                                          tagline                 title  \\\n",
              "2            No limits. No fears. No substitutes.             GoldenEye   \n",
              "38   A long time ago in a galaxy far, far away...             Star Wars   \n",
              "104                                 Wish granted!               Aladdin   \n",
              "107      The most beautiful love story ever told.  Beauty and the Beast   \n",
              "115                        Expect the Impossible.   Mission: Impossible   \n",
              "\n",
              "     vote_average vote_count       profit  \\\n",
              "2             6.6     1194.0  294194034.0   \n",
              "38            8.1     6778.0  764398007.0   \n",
              "104           7.4     3495.0  476050219.0   \n",
              "107           7.5     3029.0  352350553.0   \n",
              "115           6.7     2677.0  377696359.0   \n",
              "\n",
              "                                                 genre  \n",
              "2    [{'id': 12, 'name': 'Adventure'}, {'id': 28, '...  \n",
              "38   [{'id': 12, 'name': 'Adventure'}, {'id': 28, '...  \n",
              "104  [{'id': 16, 'name': 'Animation'}, {'id': 10751...  \n",
              "107  [{'id': 10749, 'name': 'Romance'}, {'id': 1075...  \n",
              "115  [{'id': 12, 'name': 'Adventure'}, {'id': 28, '...  \n",
              "\n",
              "[5 rows x 25 columns]"
            ],
            "text/html": [
              "\n",
              "  <div id=\"df-08dbc244-6c07-4947-9618-0e8c93d1316b\">\n",
              "    <div class=\"colab-df-container\">\n",
              "      <div>\n",
              "<style scoped>\n",
              "    .dataframe tbody tr th:only-of-type {\n",
              "        vertical-align: middle;\n",
              "    }\n",
              "\n",
              "    .dataframe tbody tr th {\n",
              "        vertical-align: top;\n",
              "    }\n",
              "\n",
              "    .dataframe thead th {\n",
              "        text-align: right;\n",
              "    }\n",
              "</style>\n",
              "<table border=\"1\" class=\"dataframe\">\n",
              "  <thead>\n",
              "    <tr style=\"text-align: right;\">\n",
              "      <th></th>\n",
              "      <th>adult</th>\n",
              "      <th>belongs_to_collection</th>\n",
              "      <th>budget</th>\n",
              "      <th>genres</th>\n",
              "      <th>homepage</th>\n",
              "      <th>id</th>\n",
              "      <th>imdb_id</th>\n",
              "      <th>original_language</th>\n",
              "      <th>original_title</th>\n",
              "      <th>overview</th>\n",
              "      <th>...</th>\n",
              "      <th>revenue</th>\n",
              "      <th>runtime</th>\n",
              "      <th>spoken_languages</th>\n",
              "      <th>status</th>\n",
              "      <th>tagline</th>\n",
              "      <th>title</th>\n",
              "      <th>vote_average</th>\n",
              "      <th>vote_count</th>\n",
              "      <th>profit</th>\n",
              "      <th>genre</th>\n",
              "    </tr>\n",
              "  </thead>\n",
              "  <tbody>\n",
              "    <tr>\n",
              "      <th>2</th>\n",
              "      <td>False</td>\n",
              "      <td>{'id': 645, 'name': 'James Bond Collection', '...</td>\n",
              "      <td>58000000</td>\n",
              "      <td>[{'id': 12, 'name': 'Adventure'}, {'id': 28, '...</td>\n",
              "      <td>http://www.mgm.com/view/movie/757/Goldeneye/</td>\n",
              "      <td>710</td>\n",
              "      <td>tt0113189</td>\n",
              "      <td>en</td>\n",
              "      <td>GoldenEye</td>\n",
              "      <td>James Bond must unmask the mysterious head of ...</td>\n",
              "      <td>...</td>\n",
              "      <td>352194034.0</td>\n",
              "      <td>130.0</td>\n",
              "      <td>[{'iso_639_1': 'en', 'name': 'English'}, {'iso...</td>\n",
              "      <td>Released</td>\n",
              "      <td>No limits. No fears. No substitutes.</td>\n",
              "      <td>GoldenEye</td>\n",
              "      <td>6.6</td>\n",
              "      <td>1194.0</td>\n",
              "      <td>294194034.0</td>\n",
              "      <td>[{'id': 12, 'name': 'Adventure'}, {'id': 28, '...</td>\n",
              "    </tr>\n",
              "    <tr>\n",
              "      <th>38</th>\n",
              "      <td>False</td>\n",
              "      <td>{'id': 10, 'name': 'Star Wars Collection', 'po...</td>\n",
              "      <td>11000000</td>\n",
              "      <td>[{'id': 12, 'name': 'Adventure'}, {'id': 28, '...</td>\n",
              "      <td>http://www.starwars.com/films/star-wars-episod...</td>\n",
              "      <td>11</td>\n",
              "      <td>tt0076759</td>\n",
              "      <td>en</td>\n",
              "      <td>Star Wars</td>\n",
              "      <td>Princess Leia is captured and held hostage by ...</td>\n",
              "      <td>...</td>\n",
              "      <td>775398007.0</td>\n",
              "      <td>121.0</td>\n",
              "      <td>[{'iso_639_1': 'en', 'name': 'English'}]</td>\n",
              "      <td>Released</td>\n",
              "      <td>A long time ago in a galaxy far, far away...</td>\n",
              "      <td>Star Wars</td>\n",
              "      <td>8.1</td>\n",
              "      <td>6778.0</td>\n",
              "      <td>764398007.0</td>\n",
              "      <td>[{'id': 12, 'name': 'Adventure'}, {'id': 28, '...</td>\n",
              "    </tr>\n",
              "    <tr>\n",
              "      <th>104</th>\n",
              "      <td>False</td>\n",
              "      <td>{'id': 86027, 'name': 'Aladdin Collection', 'p...</td>\n",
              "      <td>28000000</td>\n",
              "      <td>[{'id': 16, 'name': 'Animation'}, {'id': 10751...</td>\n",
              "      <td>http://movies.disney.com/aladdin</td>\n",
              "      <td>812</td>\n",
              "      <td>tt0103639</td>\n",
              "      <td>en</td>\n",
              "      <td>Aladdin</td>\n",
              "      <td>Princess Jasmine grows tired of being forced t...</td>\n",
              "      <td>...</td>\n",
              "      <td>504050219.0</td>\n",
              "      <td>90.0</td>\n",
              "      <td>[{'iso_639_1': 'en', 'name': 'English'}]</td>\n",
              "      <td>Released</td>\n",
              "      <td>Wish granted!</td>\n",
              "      <td>Aladdin</td>\n",
              "      <td>7.4</td>\n",
              "      <td>3495.0</td>\n",
              "      <td>476050219.0</td>\n",
              "      <td>[{'id': 16, 'name': 'Animation'}, {'id': 10751...</td>\n",
              "    </tr>\n",
              "    <tr>\n",
              "      <th>107</th>\n",
              "      <td>False</td>\n",
              "      <td>{'id': 153010, 'name': 'Beauty and the Beast C...</td>\n",
              "      <td>25000000</td>\n",
              "      <td>[{'id': 10749, 'name': 'Romance'}, {'id': 1075...</td>\n",
              "      <td>http://disney.go.com/disneyvideos/animatedfilm...</td>\n",
              "      <td>10020</td>\n",
              "      <td>tt0101414</td>\n",
              "      <td>en</td>\n",
              "      <td>Beauty and the Beast</td>\n",
              "      <td>Follow the adventures of Belle, a bright young...</td>\n",
              "      <td>...</td>\n",
              "      <td>377350553.0</td>\n",
              "      <td>84.0</td>\n",
              "      <td>[{'iso_639_1': 'fr', 'name': 'Français'}, {'is...</td>\n",
              "      <td>Released</td>\n",
              "      <td>The most beautiful love story ever told.</td>\n",
              "      <td>Beauty and the Beast</td>\n",
              "      <td>7.5</td>\n",
              "      <td>3029.0</td>\n",
              "      <td>352350553.0</td>\n",
              "      <td>[{'id': 10749, 'name': 'Romance'}, {'id': 1075...</td>\n",
              "    </tr>\n",
              "    <tr>\n",
              "      <th>115</th>\n",
              "      <td>False</td>\n",
              "      <td>{'id': 87359, 'name': 'Mission: Impossible Col...</td>\n",
              "      <td>80000000</td>\n",
              "      <td>[{'id': 12, 'name': 'Adventure'}, {'id': 28, '...</td>\n",
              "      <td>http://www.missionimpossible.com/</td>\n",
              "      <td>954</td>\n",
              "      <td>tt0117060</td>\n",
              "      <td>en</td>\n",
              "      <td>Mission: Impossible</td>\n",
              "      <td>When Ethan Hunt, the leader of a crack espiona...</td>\n",
              "      <td>...</td>\n",
              "      <td>457696359.0</td>\n",
              "      <td>110.0</td>\n",
              "      <td>[{'iso_639_1': 'en', 'name': 'English'}, {'iso...</td>\n",
              "      <td>Released</td>\n",
              "      <td>Expect the Impossible.</td>\n",
              "      <td>Mission: Impossible</td>\n",
              "      <td>6.7</td>\n",
              "      <td>2677.0</td>\n",
              "      <td>377696359.0</td>\n",
              "      <td>[{'id': 12, 'name': 'Adventure'}, {'id': 28, '...</td>\n",
              "    </tr>\n",
              "  </tbody>\n",
              "</table>\n",
              "<p>5 rows × 25 columns</p>\n",
              "</div>\n",
              "      <button class=\"colab-df-convert\" onclick=\"convertToInteractive('df-08dbc244-6c07-4947-9618-0e8c93d1316b')\"\n",
              "              title=\"Convert this dataframe to an interactive table.\"\n",
              "              style=\"display:none;\">\n",
              "        \n",
              "  <svg xmlns=\"http://www.w3.org/2000/svg\" height=\"24px\"viewBox=\"0 0 24 24\"\n",
              "       width=\"24px\">\n",
              "    <path d=\"M0 0h24v24H0V0z\" fill=\"none\"/>\n",
              "    <path d=\"M18.56 5.44l.94 2.06.94-2.06 2.06-.94-2.06-.94-.94-2.06-.94 2.06-2.06.94zm-11 1L8.5 8.5l.94-2.06 2.06-.94-2.06-.94L8.5 2.5l-.94 2.06-2.06.94zm10 10l.94 2.06.94-2.06 2.06-.94-2.06-.94-.94-2.06-.94 2.06-2.06.94z\"/><path d=\"M17.41 7.96l-1.37-1.37c-.4-.4-.92-.59-1.43-.59-.52 0-1.04.2-1.43.59L10.3 9.45l-7.72 7.72c-.78.78-.78 2.05 0 2.83L4 21.41c.39.39.9.59 1.41.59.51 0 1.02-.2 1.41-.59l7.78-7.78 2.81-2.81c.8-.78.8-2.07 0-2.86zM5.41 20L4 18.59l7.72-7.72 1.47 1.35L5.41 20z\"/>\n",
              "  </svg>\n",
              "      </button>\n",
              "      \n",
              "  <style>\n",
              "    .colab-df-container {\n",
              "      display:flex;\n",
              "      flex-wrap:wrap;\n",
              "      gap: 12px;\n",
              "    }\n",
              "\n",
              "    .colab-df-convert {\n",
              "      background-color: #E8F0FE;\n",
              "      border: none;\n",
              "      border-radius: 50%;\n",
              "      cursor: pointer;\n",
              "      display: none;\n",
              "      fill: #1967D2;\n",
              "      height: 32px;\n",
              "      padding: 0 0 0 0;\n",
              "      width: 32px;\n",
              "    }\n",
              "\n",
              "    .colab-df-convert:hover {\n",
              "      background-color: #E2EBFA;\n",
              "      box-shadow: 0px 1px 2px rgba(60, 64, 67, 0.3), 0px 1px 3px 1px rgba(60, 64, 67, 0.15);\n",
              "      fill: #174EA6;\n",
              "    }\n",
              "\n",
              "    [theme=dark] .colab-df-convert {\n",
              "      background-color: #3B4455;\n",
              "      fill: #D2E3FC;\n",
              "    }\n",
              "\n",
              "    [theme=dark] .colab-df-convert:hover {\n",
              "      background-color: #434B5C;\n",
              "      box-shadow: 0px 1px 3px 1px rgba(0, 0, 0, 0.15);\n",
              "      filter: drop-shadow(0px 1px 2px rgba(0, 0, 0, 0.3));\n",
              "      fill: #FFFFFF;\n",
              "    }\n",
              "  </style>\n",
              "\n",
              "      <script>\n",
              "        const buttonEl =\n",
              "          document.querySelector('#df-08dbc244-6c07-4947-9618-0e8c93d1316b button.colab-df-convert');\n",
              "        buttonEl.style.display =\n",
              "          google.colab.kernel.accessAllowed ? 'block' : 'none';\n",
              "\n",
              "        async function convertToInteractive(key) {\n",
              "          const element = document.querySelector('#df-08dbc244-6c07-4947-9618-0e8c93d1316b');\n",
              "          const dataTable =\n",
              "            await google.colab.kernel.invokeFunction('convertToInteractive',\n",
              "                                                     [key], {});\n",
              "          if (!dataTable) return;\n",
              "\n",
              "          const docLinkHtml = 'Like what you see? Visit the ' +\n",
              "            '<a target=\"_blank\" href=https://colab.research.google.com/notebooks/data_table.ipynb>data table notebook</a>'\n",
              "            + ' to learn more about interactive tables.';\n",
              "          element.innerHTML = '';\n",
              "          dataTable['output_type'] = 'display_data';\n",
              "          await google.colab.output.renderOutput(dataTable, element);\n",
              "          const docLink = document.createElement('div');\n",
              "          docLink.innerHTML = docLinkHtml;\n",
              "          element.appendChild(docLink);\n",
              "        }\n",
              "      </script>\n",
              "    </div>\n",
              "  </div>\n",
              "  "
            ]
          },
          "metadata": {},
          "execution_count": 90
        }
      ]
    },
    {
      "cell_type": "code",
      "source": [
        "# create a bar chart with the values we get above \n",
        "locations = [1,2]\n",
        "heights = [mean_profit_of_low_popularity, mean_profit_of_high_popularity]\n",
        "labels=['low','high']\n",
        "plt.bar(locations, heights, tick_label = labels)\n",
        "plt.title('Average profit by Different Popularity')\n",
        "plt.xlabel('Popularity')\n",
        "plt.ylabel('Average Profit')"
      ],
      "metadata": {
        "colab": {
          "base_uri": "https://localhost:8080/",
          "height": 312
        },
        "id": "4qU7IFmH_Lb8",
        "outputId": "712db4c3-8539-43d6-a9f1-01b72e6c9a9d"
      },
      "execution_count": null,
      "outputs": [
        {
          "output_type": "execute_result",
          "data": {
            "text/plain": [
              "Text(0, 0.5, 'Average Profit')"
            ]
          },
          "metadata": {},
          "execution_count": 91
        },
        {
          "output_type": "display_data",
          "data": {
            "text/plain": [
              "<Figure size 432x288 with 1 Axes>"
            ],
            "image/png": "[encoded data removed]"
          },
          "metadata": {
            "needs_background": "light"
          }
        }
      ]
    },
    {
      "cell_type": "code",
      "source": [
        "top10_revenue = df.nlargest(10,'revenue')\n",
        "top10_revenue.hist(figsize=(12,12))\n"
      ],
      "metadata": {
        "colab": {
          "base_uri": "https://localhost:8080/",
          "height": 903
        },
        "id": "r6c575jn_OKS",
        "outputId": "bd48908b-ec30-4db7-cc72-2b5c8fa4cdf4"
      },
      "execution_count": null,
      "outputs": [
        {
          "output_type": "execute_result",
          "data": {
            "text/plain": [
              "array([[<matplotlib.axes._subplots.AxesSubplot object at 0x7f7f1ac77e90>,\n",
              "        <matplotlib.axes._subplots.AxesSubplot object at 0x7f7f1ac6f710>,\n",
              "        <matplotlib.axes._subplots.AxesSubplot object at 0x7f7f1ac19f90>],\n",
              "       [<matplotlib.axes._subplots.AxesSubplot object at 0x7f7f1abdb790>,\n",
              "        <matplotlib.axes._subplots.AxesSubplot object at 0x7f7f1ac10c90>,\n",
              "        <matplotlib.axes._subplots.AxesSubplot object at 0x7f7f1abc8fd0>],\n",
              "       [<matplotlib.axes._subplots.AxesSubplot object at 0x7f7f1ab8b6d0>,\n",
              "        <matplotlib.axes._subplots.AxesSubplot object at 0x7f7f1ab43bd0>,\n",
              "        <matplotlib.axes._subplots.AxesSubplot object at 0x7f7f1aaf8e90>]],\n",
              "      dtype=object)"
            ]
          },
          "metadata": {},
          "execution_count": 92
        },
        {
          "output_type": "display_data",
          "data": {
            "text/plain": [
              "<Figure size 864x864 with 9 Axes>"
            ],
            "image/png": "[encoded data removed]"
          },
          "metadata": {
            "needs_background": "light"
          }
        }
      ]
    },
    {
      "cell_type": "code",
      "source": [
        "#The following function can give all the counts for per category \n",
        "def extract_data(column_name):\n",
        "    data = df[column_name].str.cat(sep = '|') # put all the genres into a long string  \n",
        "    # Create pandas series and store the values separately\n",
        "    data = pd.Series(data.split('|'))   # split the genres by |\n",
        "    # Display value count in descending order\n",
        "    count = data.value_counts(ascending = False) # count the occurrence of each genres \n",
        "    return count"
      ],
      "metadata": {
        "id": "4LrHjJMs_VYm"
      },
      "execution_count": null,
      "outputs": []
    },
    {
      "cell_type": "code",
      "source": [
        "df.columns"
      ],
      "metadata": {
        "colab": {
          "base_uri": "https://localhost:8080/"
        },
        "id": "bkI0bYs8jwyy",
        "outputId": "c7f17dbd-bb9d-4f24-a0f0-fdb6ab1da14e"
      },
      "execution_count": null,
      "outputs": [
        {
          "output_type": "execute_result",
          "data": {
            "text/plain": [
              "Index(['adult', 'belongs_to_collection', 'budget', 'genres', 'homepage', 'id',\n",
              "       'imdb_id', 'original_language', 'original_title', 'overview',\n",
              "       'popularity', 'poster_path', 'production_companies',\n",
              "       'production_countries', 'release_date', 'revenue', 'runtime',\n",
              "       'spoken_languages', 'status', 'tagline', 'title', 'vote_average',\n",
              "       'vote_count', 'profit', 'genre'],\n",
              "      dtype='object')"
            ]
          },
          "metadata": {},
          "execution_count": 94
        }
      ]
    },
    {
      "cell_type": "code",
      "source": [
        "# use the function created above to split genres and count the occurrence of each one\n",
        "genre_count = extract_data('original_language')\n",
        "\n",
        "#create a separate dataframe to plot\n",
        "df_genre_counts = pd.DataFrame({'original_language': genre_count.index, 'count': genre_count.values }) \n",
        "#df_genre_counts\n",
        "\n",
        "f, ax = plt.subplots(figsize=(23, 9))\n",
        "# use the dataframe just created as the input data \n",
        "sns.barplot(x = 'count', y = 'original_language', data=df_genre_counts) # how to get the data is the key \n",
        "ax.set_title(' occurences per language ')\n",
        "ax.set_xlabel('occurrences')\n",
        "ax.set_ylabel('original_language')\n",
        "plt.show()"
      ],
      "metadata": {
        "colab": {
          "base_uri": "https://localhost:8080/",
          "height": 531
        },
        "id": "0jjRuhtN_c5e",
        "outputId": "47fd727a-003e-46ed-9693-364fa890fddd"
      },
      "execution_count": null,
      "outputs": [
        {
          "output_type": "display_data",
          "data": {
            "text/plain": [
              "<Figure size 1656x648 with 1 Axes>"
            ],
            "image/png": "[encoded data removed]"
          },
          "metadata": {
            "needs_background": "light"
          }
        }
      ]
    },
    {
      "cell_type": "code",
      "source": [
        "df.columns"
      ],
      "metadata": {
        "colab": {
          "base_uri": "https://localhost:8080/"
        },
        "id": "C_g2Dr3dhNVb",
        "outputId": "a3892431-7bec-4159-f14e-15a5bf3130a0"
      },
      "execution_count": null,
      "outputs": [
        {
          "output_type": "execute_result",
          "data": {
            "text/plain": [
              "Index(['adult', 'belongs_to_collection', 'budget', 'genres', 'homepage', 'id',\n",
              "       'imdb_id', 'original_language', 'original_title', 'overview',\n",
              "       'popularity', 'poster_path', 'production_companies',\n",
              "       'production_countries', 'release_date', 'revenue', 'runtime',\n",
              "       'spoken_languages', 'status', 'tagline', 'title', 'video',\n",
              "       'vote_average', 'vote_count', 'profit'],\n",
              "      dtype='object')"
            ]
          },
          "metadata": {},
          "execution_count": 40
        }
      ]
    },
    {
      "cell_type": "code",
      "source": [
        "Languages= extract_data('spoken_languages')\n",
        "Languages"
      ],
      "metadata": {
        "colab": {
          "base_uri": "https://localhost:8080/"
        },
        "id": "zhRBLpmZ_iOu",
        "outputId": "2c2c5d5c-f587-4d46-f95b-deee78ff9694"
      },
      "execution_count": null,
      "outputs": [
        {
          "output_type": "execute_result",
          "data": {
            "text/plain": [
              "[{'iso_639_1': 'en', 'name': 'English'}]                                                                                                                                                                      94\n",
              "[{'iso_639_1': 'en', 'name': 'English'}, {'iso_639_1': 'es', 'name': 'Español'}]                                                                                                                               4\n",
              "[{'iso_639_1': 'en', 'name': 'English'}, {'iso_639_1': 'ru', 'name': 'Pусский'}, {'iso_639_1': 'es', 'name': 'Español'}]                                                                                       2\n",
              "[{'iso_639_1': 'fr', 'name': 'Français'}, {'iso_639_1': 'en', 'name': 'English'}]                                                                                                                              2\n",
              "[{'iso_639_1': 'zh', 'name': '普通话'}, {'iso_639_1': 'th', 'name': 'ภาษาไทย'}]                                                                                                                                   2\n",
              "[{'iso_639_1': 'en', 'name': 'English'}, {'iso_639_1': 'th', 'name': 'ภาษาไทย'}]                                                                                                                               2\n",
              "[{'iso_639_1': 'hi', 'name': 'हिन्दी'}]                                                                                                                                                                        2\n",
              "[{'iso_639_1': 'en', 'name': 'English'}, {'iso_639_1': 'fr', 'name': 'Français'}]                                                                                                                              2\n",
              "[{'iso_639_1': 'en', 'name': 'English'}, {'iso_639_1': 'ru', 'name': 'Pусский'}]                                                                                                                               2\n",
              "[{'iso_639_1': 'en', 'name': 'English'}, {'iso_639_1': 'ja', 'name': '日本語'}]                                                                                                                                   2\n",
              "[{'iso_639_1': 'fi', 'name': 'suomi'}]                                                                                                                                                                         1\n",
              "[{'iso_639_1': 'sv', 'name': 'svenska'}, {'iso_639_1': 'en', 'name': 'English'}]                                                                                                                               1\n",
              "[{'iso_639_1': 'en', 'name': 'English'}, {'iso_639_1': 'it', 'name': 'Italiano'}]                                                                                                                              1\n",
              "[{'iso_639_1': 'en', 'name': 'English'}, {'iso_639_1': 'fi', 'name': 'suomi'}]                                                                                                                                 1\n",
              "[{'iso_639_1': 'hi', 'name': 'हिन्दी'}, {'iso_639_1': 'en', 'name': 'English'}]                                                                                                                                1\n",
              "[{'iso_639_1': 'en', 'name': 'English'}, {'iso_639_1': 'de', 'name': 'Deutsch'}, {'iso_639_1': 'pt', 'name': 'Português'}, {'iso_639_1': 'es', 'name': 'Español'}]                                             1\n",
              "[{'iso_639_1': 'fr', 'name': 'Français'}, {'iso_639_1': 'no', 'name': 'Norsk'}, {'iso_639_1': 'en', 'name': 'English'}]                                                                                        1\n",
              "[{'iso_639_1': 'en', 'name': 'English'}, {'iso_639_1': 'pa', 'name': 'ਪੰਜਾਬੀ'}]                                                                                                                                1\n",
              "[{'iso_639_1': 'cs', 'name': 'Český'}, {'iso_639_1': 'en', 'name': 'English'}]                                                                                                                                 1\n",
              "[{'iso_639_1': 'ar', 'name': 'العربية'}, {'iso_639_1': 'id', 'name': 'Bahasa indonesia'}, {'iso_639_1': 'ja', 'name': '日本語'}, {'iso_639_1': 'en', 'name': 'English'}]                                          1\n",
              "[{'iso_639_1': 'de', 'name': 'Deutsch'}, {'iso_639_1': 'en', 'name': 'English'}, {'iso_639_1': 'sv', 'name': 'svenska'}]                                                                                       1\n",
              "[{'iso_639_1': 'de', 'name': 'Deutsch'}, {'iso_639_1': 'no', 'name': 'Norsk'}, {'iso_639_1': 'en', 'name': 'English'}]                                                                                         1\n",
              "[{'iso_639_1': 'ja', 'name': '日本語'}]                                                                                                                                                                           1\n",
              "[{'iso_639_1': 'nl', 'name': 'Nederlands'}]                                                                                                                                                                    1\n",
              "[{'iso_639_1': 'cs', 'name': 'Český'}, {'iso_639_1': 'zh', 'name': '普通话'}, {'iso_639_1': 'ru', 'name': 'Pусский'}, {'iso_639_1': 'th', 'name': 'ภาษาไทย'}]                                                     1\n",
              "[{'iso_639_1': 'en', 'name': 'English'}, {'iso_639_1': 'de', 'name': 'Deutsch'}, {'iso_639_1': 'ru', 'name': 'Pусский'}]                                                                                       1\n",
              "[{'iso_639_1': 'zh', 'name': '普通话'}, {'iso_639_1': 'ja', 'name': '日本語'}, {'iso_639_1': 'cn', 'name': '广州话 / 廣州話'}]                                                                                             1\n",
              "[{'iso_639_1': 'en', 'name': 'English'}, {'iso_639_1': 'de', 'name': 'Deutsch'}]                                                                                                                               1\n",
              "[{'iso_639_1': 'en', 'name': 'English'}, {'iso_639_1': 'fr', 'name': 'Français'}, {'iso_639_1': 'cs', 'name': 'Český'}]                                                                                        1\n",
              "[{'iso_639_1': 'en', 'name': 'English'}, {'iso_639_1': 'it', 'name': 'Italiano'}, {'iso_639_1': 'la', 'name': 'Latin'}]                                                                                        1\n",
              "[{'iso_639_1': 'it', 'name': 'Italiano'}]                                                                                                                                                                      1\n",
              "[{'iso_639_1': 'en', 'name': 'English'}, {'iso_639_1': 'it', 'name': 'Italiano'}, {'iso_639_1': 'de', 'name': 'Deutsch'}, {'iso_639_1': 'la', 'name': 'Latin'}]                                                1\n",
              "[{'iso_639_1': 'en', 'name': 'English'}, {'iso_639_1': 'si', 'name': ''}]                                                                                                                                      1\n",
              "[{'iso_639_1': 'en', 'name': 'English'}, {'iso_639_1': 'ar', 'name': 'العربية'}]                                                                                                                               1\n",
              "[{'iso_639_1': 'en', 'name': 'English'}, {'iso_639_1': 'fr', 'name': 'Français'}, {'iso_639_1': 'es', 'name': 'Español'}]                                                                                      1\n",
              "[{'iso_639_1': 'en', 'name': 'English'}, {'iso_639_1': 'es', 'name': 'Español'}, {'iso_639_1': 'it', 'name': 'Italiano'}, {'iso_639_1': 'fr', 'name': 'Français'}, {'iso_639_1': 'de', 'name': 'Deutsch'}]     1\n",
              "[{'iso_639_1': 'es', 'name': 'Español'}, {'iso_639_1': 'en', 'name': 'English'}]                                                                                                                               1\n",
              "[{'iso_639_1': 'it', 'name': 'Italiano'}, {'iso_639_1': 'en', 'name': 'English'}]                                                                                                                              1\n",
              "[{'iso_639_1': 'eo', 'name': 'Esperanto'}, {'iso_639_1': 'en', 'name': 'English'}]                                                                                                                             1\n",
              "[{'iso_639_1': 'en', 'name': 'English'}, {'iso_639_1': 'fr', 'name': 'Français'}, {'iso_639_1': 'pl', 'name': 'Polski'}]                                                                                       1\n",
              "[{'iso_639_1': 'en', 'name': 'English'}, {'iso_639_1': 'fr', 'name': 'Français'}, {'iso_639_1': 'ar', 'name': 'العربية'}, {'iso_639_1': 'ru', 'name': 'Pусский'}, {'iso_639_1': 'es', 'name': 'Español'}]      1\n",
              "[{'iso_639_1': 'en', 'name': 'English'}, {'iso_639_1': 'ru', 'name': 'Pусский'}, {'iso_639_1': 'sr', 'name': 'Srpski'}]                                                                                        1\n",
              "[]                                                                                                                                                                                                             1\n",
              "dtype: int64"
            ]
          },
          "metadata": {},
          "execution_count": 41
        }
      ]
    }
  ],
  "metadata": {
    "colab": {
      "name": "imdb-ratings.ipynb",
      "provenance": [],
      "collapsed_sections": []
    },
    "kernelspec": {
      "display_name": "Python 3",
      "language": "python",
      "name": "python3"
    },
    "language_info": {
      "codemirror_mode": {
        "name": "ipython",
        "version": 3
      },
      "file_extension": ".py",
      "mimetype": "text/x-python",
      "name": "python",
      "nbconvert_exporter": "python",
      "pygments_lexer": "ipython3",
      "version": "3.7.6"
    }
  },
  "nbformat": 4,
  "nbformat_minor": 0
}